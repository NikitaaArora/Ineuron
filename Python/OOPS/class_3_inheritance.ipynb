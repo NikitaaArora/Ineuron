{
 "cells": [
  {
   "cell_type": "code",
   "execution_count": null,
   "metadata": {},
   "outputs": [],
   "source": []
  },
  {
   "cell_type": "markdown",
   "metadata": {},
   "source": [
    "# aggregation (now depricated)"
   ]
  },
  {
   "cell_type": "markdown",
   "metadata": {},
   "source": [
    "## class relationship \n",
    "1. aggregation.(Has a relationship among different classess as one class owns other class.)\n",
    "2. Inheritance. \n"
   ]
  },
  {
   "cell_type": "markdown",
   "metadata": {},
   "source": [
    "# aggregation and Inheritance can access only non-private attributes and non private methods. \n",
    "# the defined variables and methods should be public in nature not private.\n",
    "# whenever we pass object of a class to another class that is called aggregation. "
   ]
  },
  {
   "cell_type": "code",
   "execution_count": null,
   "metadata": {},
   "outputs": [],
   "source": []
  },
  {
   "cell_type": "code",
   "execution_count": 2,
   "metadata": {},
   "outputs": [
    {
     "name": "stdout",
     "output_type": "stream",
     "text": [
      "Karnataka 4545 bengaluru\n"
     ]
    }
   ],
   "source": [
    "#this is the first class\n",
    "class Customer:\n",
    "    def __init__(self,name,gender,address):\n",
    "        self.name = name   #name and gender are single attributes \n",
    "        self.gender = gender #all these are public variables. \n",
    "        self.address = address #address is a complex attribute as address includes city,state etc.\n",
    "\n",
    "    def print_address(self): #making a method inside the class #public method.\n",
    "        print(self.address.city, self.address.pin, self.address.state)\n",
    "\n",
    "\n",
    "\n",
    "#this is a different class\n",
    "# whatever attributes there are in Address class can be accessed through Customer class. \n",
    "class Address:\n",
    "    def __init__(self,city,pin,state): #as address is quite complex attribute.\n",
    "        self.city= city\n",
    "        self.pin = pin\n",
    "        self.state = state\n",
    "\n",
    "\n",
    "\n",
    "\n",
    "#address object\n",
    "adds = Address(\"Karnataka\",4545,\"bengaluru\") #this is an object of address class \n",
    "\n",
    "#customer object\n",
    "cus = Customer(\"Nikita\",\"Male\",adds) #passing the object of address class to this class \"customer\" class.\n",
    "\n",
    "cus.print_address() #this is aggregation..connect two class together ie. aggregation\n",
    "# that is whatever is there in address class that can be accesed through customer class. \n",
    "# Customer (this will have diamond, this is a Master class) owns the Address class \n"
   ]
  },
  {
   "cell_type": "markdown",
   "metadata": {},
   "source": [
    "## making the city of the address as a private variable."
   ]
  },
  {
   "cell_type": "code",
   "execution_count": 4,
   "metadata": {},
   "outputs": [
    {
     "name": "stdout",
     "output_type": "stream",
     "text": [
      "Karnataka 4545 bengaluru\n"
     ]
    }
   ],
   "source": [
    "#this is the first class\n",
    "class Customer:\n",
    "    def __init__(self,name,gender,address):\n",
    "        self.name = name   #name and gender are single attributes \n",
    "        self.gender = gender #all these are public variables. \n",
    "        self.address = address #address is a complex attribute as address includes city,state etc.\n",
    "\n",
    "    def print_address(self): #making a method inside the class #public method.\n",
    "        print(self.address.get_city(), self.address.pin, self.address.state)\n",
    "              #calling this function to get the city. \n",
    "\n",
    "\n",
    "\n",
    "#this is a different class\n",
    "# whatever attributes there are in Address class can be accessed through Customer class. \n",
    "class Address:\n",
    "    def __init__(self,city,pin,state): #as address is quite complex attribute.\n",
    "        self.__city= city #double underscore means making this variable as a private variable. \n",
    "                          # private variable is private to the particular class and cant be accessed through other class. \n",
    "        self.pin = pin\n",
    "        self.state = state\n",
    "\n",
    "\n",
    "    def get_city(self):  #this is a getter function isme self likhte hai. \n",
    "        return self.__city\n",
    "\n",
    "\n",
    "\n",
    "\n",
    "#address object\n",
    "adds = Address(\"Karnataka\",4545,\"bengaluru\") #this is an object of address class \n",
    "\n",
    "#customer object\n",
    "cus = Customer(\"Nikita\",\"Male\",adds) #passing the object of address class to this class \"customer\" class.\n",
    "\n",
    "cus.print_address() #this is aggregation..connect two class together ie. aggregation\n",
    "# that is whatever is there in address class that can be accesed through customer class. \n",
    "# Customer (this will have diamond, this is a Master class) owns the Address class \n"
   ]
  },
  {
   "cell_type": "markdown",
   "metadata": {},
   "source": [
    "# instead of using \"_classname__variablename\" we should use getter function if its there/present in the class else we should not use \"_classname__variablename\" as that would mean we are invading the privacy of the one who made this code. \n",
    "# _protectedvariable ( this is usually not used much in the python. )"
   ]
  },
  {
   "cell_type": "code",
   "execution_count": null,
   "metadata": {},
   "outputs": [],
   "source": []
  },
  {
   "cell_type": "code",
   "execution_count": 5,
   "metadata": {},
   "outputs": [
    {
     "name": "stdout",
     "output_type": "stream",
     "text": [
      "Karnataka 4545 bengaluru\n"
     ]
    }
   ],
   "source": [
    "#this is the first class\n",
    "class Customer:\n",
    "    def __init__(self,name,gender,address): #address is the object of the \"Address\" class\n",
    "        self.name = name   #name and gender are single attributes \n",
    "        self.gender = gender #all these are public variables. \n",
    "        self.address = address #address is a complex attribute as address includes city,state etc.\n",
    "\n",
    "    def print_address(self): #making a method inside the class #public method.\n",
    "        print(self.address._Address__city, self.address.pin, self.address.state)\n",
    "              #calling this function to get the city. \n",
    "\n",
    "\n",
    "\n",
    "#this is a different class\n",
    "# whatever attributes there are in Address class can be accessed through Customer class. \n",
    "class Address:\n",
    "    def __init__(self,city,pin,state): #as address is quite complex attribute.\n",
    "        self.__city= city #double underscore means making this variable as a private variable. \n",
    "                          # private variable is private to the particular class and cant be accessed through other class. \n",
    "        self.pin = pin\n",
    "        self.state = state\n",
    "\n",
    "\n",
    "    def get_city(self):  #this is a getter function isme self likhte hai. \n",
    "        return self.__city\n",
    "\n",
    "\n",
    "\n",
    "\n",
    "#address object\n",
    "adds = Address(\"Karnataka\",4545,\"bengaluru\") #this is an object of address class \n",
    "\n",
    "#customer object\n",
    "cus = Customer(\"Nikita\",\"Male\",adds) #passing the object of address class to this class \"customer\" class.\n",
    "\n",
    "cus.print_address() #this is aggregation..connect two class together ie. aggregation\n",
    "# that is whatever is there in address class that can be accesed through customer class. \n",
    "# Customer (this will have diamond, this is a Master class) owns the Address class \n"
   ]
  },
  {
   "cell_type": "markdown",
   "metadata": {},
   "source": [
    "# Inheritance\n",
    "\n",
    "# can access only public attributes/variables "
   ]
  },
  {
   "cell_type": "code",
   "execution_count": 7,
   "metadata": {},
   "outputs": [],
   "source": [
    "#First class called \"User\"\n",
    "#parent class : User\n",
    "class User:\n",
    "    def __init__(self): #self is referring to the User class only\n",
    "        self.name = \"Bappy\"\n",
    "        self.gender = \"Male\"\n",
    "        \n",
    "\n",
    "    def login(self): #login method\n",
    "        print(\"Login done!\")\n",
    "\n",
    "\n",
    "#Student is the Child class\n",
    "#Second class called \"Student\"\n",
    "# we are trying to access the user properties inside the student class. \n",
    "class Student(User): #another class called student\n",
    "    def __init__(self):\n",
    "        self.rollno = 100\n",
    "\n",
    "\n",
    "    def enroll(self):\n",
    "        print(\"Enroll into the course!\")\n",
    "\n",
    "\n",
    "\n",
    "#third class\n",
    "\n",
    "class Instructor:\n",
    "    pass\n"
   ]
  },
  {
   "cell_type": "code",
   "execution_count": 8,
   "metadata": {},
   "outputs": [],
   "source": [
    "S= Student()"
   ]
  },
  {
   "cell_type": "code",
   "execution_count": 9,
   "metadata": {},
   "outputs": [
    {
     "name": "stdout",
     "output_type": "stream",
     "text": [
      "Login done!\n"
     ]
    }
   ],
   "source": [
    "S.login() #login method is present in User class and we can access it via User class."
   ]
  },
  {
   "cell_type": "code",
   "execution_count": 10,
   "metadata": {},
   "outputs": [
    {
     "name": "stdout",
     "output_type": "stream",
     "text": [
      "Enroll into the course!\n"
     ]
    }
   ],
   "source": [
    "S.enroll()"
   ]
  },
  {
   "cell_type": "code",
   "execution_count": null,
   "metadata": {},
   "outputs": [],
   "source": []
  },
  {
   "cell_type": "code",
   "execution_count": null,
   "metadata": {},
   "outputs": [],
   "source": []
  },
  {
   "cell_type": "code",
   "execution_count": null,
   "metadata": {},
   "outputs": [],
   "source": []
  },
  {
   "cell_type": "code",
   "execution_count": null,
   "metadata": {},
   "outputs": [],
   "source": []
  },
  {
   "cell_type": "code",
   "execution_count": null,
   "metadata": {},
   "outputs": [],
   "source": []
  },
  {
   "cell_type": "code",
   "execution_count": null,
   "metadata": {},
   "outputs": [],
   "source": []
  },
  {
   "cell_type": "code",
   "execution_count": null,
   "metadata": {},
   "outputs": [],
   "source": []
  },
  {
   "cell_type": "code",
   "execution_count": null,
   "metadata": {},
   "outputs": [],
   "source": []
  },
  {
   "cell_type": "code",
   "execution_count": null,
   "metadata": {},
   "outputs": [],
   "source": []
  },
  {
   "cell_type": "code",
   "execution_count": null,
   "metadata": {},
   "outputs": [],
   "source": []
  }
 ],
 "metadata": {
  "kernelspec": {
   "display_name": "base",
   "language": "python",
   "name": "python3"
  },
  "language_info": {
   "codemirror_mode": {
    "name": "ipython",
    "version": 3
   },
   "file_extension": ".py",
   "mimetype": "text/x-python",
   "name": "python",
   "nbconvert_exporter": "python",
   "pygments_lexer": "ipython3",
   "version": "3.11.5"
  }
 },
 "nbformat": 4,
 "nbformat_minor": 2
}
