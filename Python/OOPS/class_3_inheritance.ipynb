{
 "cells": [
  {
   "cell_type": "code",
   "execution_count": null,
   "metadata": {},
   "outputs": [],
   "source": []
  },
  {
   "cell_type": "markdown",
   "metadata": {},
   "source": [
    "# aggregation (now depricated)"
   ]
  },
  {
   "cell_type": "markdown",
   "metadata": {},
   "source": [
    "## class relationship \n",
    "1. aggregation.(Has a relationship among different classess as one class owns other class.)\n",
    "2. Inheritance. \n"
   ]
  },
  {
   "cell_type": "markdown",
   "metadata": {},
   "source": [
    "# aggregation and Inheritance can access only non-private attributes and non private methods. \n",
    "# the defined variables and methods should be public in nature not private.\n",
    "# whenever we pass object of a class to another class that is called aggregation. "
   ]
  },
  {
   "cell_type": "code",
   "execution_count": null,
   "metadata": {},
   "outputs": [],
   "source": []
  },
  {
   "cell_type": "code",
   "execution_count": 2,
   "metadata": {},
   "outputs": [
    {
     "name": "stdout",
     "output_type": "stream",
     "text": [
      "Karnataka 4545 bengaluru\n"
     ]
    }
   ],
   "source": [
    "#this is the first class\n",
    "class Customer:\n",
    "    def __init__(self,name,gender,address):\n",
    "        self.name = name   #name and gender are single attributes \n",
    "        self.gender = gender #all these are public variables. \n",
    "        self.address = address #address is a complex attribute as address includes city,state etc.\n",
    "\n",
    "    def print_address(self): #making a method inside the class #public method.\n",
    "        print(self.address.city, self.address.pin, self.address.state)\n",
    "\n",
    "\n",
    "\n",
    "#this is a different class\n",
    "# whatever attributes there are in Address class can be accessed through Customer class. \n",
    "class Address:\n",
    "    def __init__(self,city,pin,state): #as address is quite complex attribute.\n",
    "        self.city= city\n",
    "        self.pin = pin\n",
    "        self.state = state\n",
    "\n",
    "\n",
    "\n",
    "\n",
    "#address object\n",
    "adds = Address(\"Karnataka\",4545,\"bengaluru\") #this is an object of address class \n",
    "\n",
    "#customer object\n",
    "cus = Customer(\"Nikita\",\"Male\",adds) #passing the object of address class to this class \"customer\" class.\n",
    "\n",
    "cus.print_address() #this is aggregation..connect two class together ie. aggregation\n",
    "# that is whatever is there in address class that can be accesed through customer class. \n",
    "# Customer (this will have diamond, this is a Master class) owns the Address class \n"
   ]
  },
  {
   "cell_type": "markdown",
   "metadata": {},
   "source": [
    "## making the city of the address as a private variable."
   ]
  },
  {
   "cell_type": "code",
   "execution_count": 4,
   "metadata": {},
   "outputs": [
    {
     "name": "stdout",
     "output_type": "stream",
     "text": [
      "Karnataka 4545 bengaluru\n"
     ]
    }
   ],
   "source": [
    "#this is the first class\n",
    "class Customer:\n",
    "    def __init__(self,name,gender,address):\n",
    "        self.name = name   #name and gender are single attributes \n",
    "        self.gender = gender #all these are public variables. \n",
    "        self.address = address #address is a complex attribute as address includes city,state etc.\n",
    "\n",
    "    def print_address(self): #making a method inside the class #public method.\n",
    "        print(self.address.get_city(), self.address.pin, self.address.state)\n",
    "              #calling this function to get the city. \n",
    "\n",
    "\n",
    "\n",
    "#this is a different class\n",
    "# whatever attributes there are in Address class can be accessed through Customer class. \n",
    "class Address:\n",
    "    def __init__(self,city,pin,state): #as address is quite complex attribute.\n",
    "        self.__city= city #double underscore means making this variable as a private variable. \n",
    "                          # private variable is private to the particular class and cant be accessed through other class. \n",
    "        self.pin = pin\n",
    "        self.state = state\n",
    "\n",
    "\n",
    "    def get_city(self):  #this is a getter function isme self likhte hai. \n",
    "        return self.__city\n",
    "\n",
    "\n",
    "\n",
    "\n",
    "#address object\n",
    "adds = Address(\"Karnataka\",4545,\"bengaluru\") #this is an object of address class \n",
    "\n",
    "#customer object\n",
    "cus = Customer(\"Nikita\",\"Male\",adds) #passing the object of address class to this class \"customer\" class.\n",
    "\n",
    "cus.print_address() #this is aggregation..connect two class together ie. aggregation\n",
    "# that is whatever is there in address class that can be accesed through customer class. \n",
    "# Customer (this will have diamond, this is a Master class) owns the Address class \n"
   ]
  },
  {
   "cell_type": "markdown",
   "metadata": {},
   "source": [
    "# instead of using \"_classname__variablename\" we should use getter function if its there/present in the class else we should not use \"_classname__variablename\" as that would mean we are invading the privacy of the one who made this code. \n",
    "# _protectedvariable ( this is usually not used much in the python. )"
   ]
  },
  {
   "cell_type": "code",
   "execution_count": null,
   "metadata": {},
   "outputs": [],
   "source": []
  },
  {
   "cell_type": "code",
   "execution_count": 5,
   "metadata": {},
   "outputs": [
    {
     "name": "stdout",
     "output_type": "stream",
     "text": [
      "Karnataka 4545 bengaluru\n"
     ]
    }
   ],
   "source": [
    "#this is the first class\n",
    "class Customer:\n",
    "    def __init__(self,name,gender,address): #address is the object of the \"Address\" class\n",
    "        self.name = name   #name and gender are single attributes \n",
    "        self.gender = gender #all these are public variables. \n",
    "        self.address = address #address is a complex attribute as address includes city,state etc.\n",
    "\n",
    "    def print_address(self): #making a method inside the class #public method.\n",
    "        print(self.address._Address__city, self.address.pin, self.address.state)\n",
    "              #calling this function to get the city. \n",
    "\n",
    "\n",
    "\n",
    "#this is a different class\n",
    "# whatever attributes there are in Address class can be accessed through Customer class. \n",
    "class Address:\n",
    "    def __init__(self,city,pin,state): #as address is quite complex attribute.\n",
    "        self.__city= city #double underscore means making this variable as a private variable. \n",
    "                          # private variable is private to the particular class and cant be accessed through other class. \n",
    "        self.pin = pin\n",
    "        self.state = state\n",
    "\n",
    "\n",
    "    def get_city(self):  #this is a getter function isme self likhte hai. \n",
    "        return self.__city\n",
    "\n",
    "\n",
    "\n",
    "\n",
    "#address object\n",
    "adds = Address(\"Karnataka\",4545,\"bengaluru\") #this is an object of address class \n",
    "\n",
    "#customer object\n",
    "cus = Customer(\"Nikita\",\"Male\",adds) #passing the object of address class to this class \"customer\" class.\n",
    "\n",
    "cus.print_address() #this is aggregation..connect two class together ie. aggregation\n",
    "# that is whatever is there in address class that can be accesed through customer class. \n",
    "# Customer (this will have diamond, this is a Master class) owns the Address class \n"
   ]
  },
  {
   "cell_type": "markdown",
   "metadata": {},
   "source": [
    "# Inheritance\n",
    "\n",
    "# can access only public attributes/variables \n",
    "#arrow jiska hoga that is parent class and another is child class. "
   ]
  },
  {
   "cell_type": "code",
   "execution_count": 16,
   "metadata": {},
   "outputs": [],
   "source": [
    "#First class called \"User\"\n",
    "#parent class : User\n",
    "class User:\n",
    "    def __init__(self): #self is referring to the User class only\n",
    "        self.name = \"Bappy\"\n",
    "        self.gender = \"Male\"\n",
    "        \n",
    "\n",
    "    def login(self): #login method\n",
    "        print(\"Login done!\")\n",
    "\n",
    "\n",
    "#Student is the Child class\n",
    "#Second class called \"Student\"\n",
    "# we are trying to access the user properties inside the student class. \n",
    "class Student(User): #another class called student\n",
    "    def __init__(self):\n",
    "        self.rollno = 100\n",
    "\n",
    "\n",
    "    def enroll(self):\n",
    "        print(\"Enroll into the course!\")\n",
    "\n",
    "\n"
   ]
  },
  {
   "cell_type": "code",
   "execution_count": 18,
   "metadata": {},
   "outputs": [],
   "source": [
    "S= Student()"
   ]
  },
  {
   "cell_type": "code",
   "execution_count": 9,
   "metadata": {},
   "outputs": [
    {
     "name": "stdout",
     "output_type": "stream",
     "text": [
      "Login done!\n"
     ]
    }
   ],
   "source": [
    "S.login() #login method is present in User class and we can access it via User class."
   ]
  },
  {
   "cell_type": "code",
   "execution_count": 10,
   "metadata": {},
   "outputs": [
    {
     "name": "stdout",
     "output_type": "stream",
     "text": [
      "Enroll into the course!\n"
     ]
    }
   ],
   "source": [
    "S.enroll()"
   ]
  },
  {
   "cell_type": "code",
   "execution_count": 14,
   "metadata": {},
   "outputs": [
    {
     "data": {
      "text/plain": [
       "'Bappy'"
      ]
     },
     "execution_count": 14,
     "metadata": {},
     "output_type": "execute_result"
    }
   ],
   "source": [
    "S.name #attribute error\n",
    "#not able to access the attribute of the class.\"User\"\n",
    "# only the attribute or the variable of the student class can be accessed not of the \"User\" class.\n",
    "# User class ka sirf method is initialised. "
   ]
  },
  {
   "cell_type": "code",
   "execution_count": null,
   "metadata": {},
   "outputs": [],
   "source": [
    "#Parent class \n",
    "\"\"\" if __init__  method is not present in the \"Student\" class then the variables would be taken from\n",
    "the \"User\" class. only then attributes/variables can be accessed. \n",
    "\n",
    "\"\"\"\n"
   ]
  },
  {
   "cell_type": "code",
   "execution_count": 19,
   "metadata": {},
   "outputs": [
    {
     "data": {
      "text/plain": [
       "100"
      ]
     },
     "execution_count": 19,
     "metadata": {},
     "output_type": "execute_result"
    }
   ],
   "source": [
    "S.rollno #this is student ka hi attribute hi hai. "
   ]
  },
  {
   "cell_type": "code",
   "execution_count": null,
   "metadata": {},
   "outputs": [],
   "source": [
    "#parent class : User\n",
    "class User:\n",
    "    def __init__(self): #self is referring to the User class only\n",
    "        self.name = \"Bappy\"\n",
    "        self.gender = \"Male\"\n",
    "        \n",
    "\n",
    "    def login(self): #login method\n",
    "        print(\"Login done!\")"
   ]
  },
  {
   "cell_type": "code",
   "execution_count": 24,
   "metadata": {},
   "outputs": [],
   "source": [
    "#parent class: User\n",
    "class User:\n",
    "    def __init__(self):\n",
    "        self.name = \"Dad\"\n",
    "        self.gender = \"Male\"\n",
    "\n",
    "    def login(self):\n",
    "        print(\"Login done!\")\n",
    "\n",
    "\n",
    "#child class: Student\n",
    "\n",
    "class Student(User):\n",
    "    # def __init__(self):\n",
    "    #     self.name = \"Sunny\"\n",
    "\n",
    "\n",
    "    def enroll(self):\n",
    "        print(\"enrolled into the course\")"
   ]
  },
  {
   "cell_type": "code",
   "execution_count": 26,
   "metadata": {},
   "outputs": [],
   "source": [
    "S= Student()"
   ]
  },
  {
   "cell_type": "code",
   "execution_count": 22,
   "metadata": {},
   "outputs": [
    {
     "data": {
      "text/plain": [
       "'Sunny'"
      ]
     },
     "execution_count": 22,
     "metadata": {},
     "output_type": "execute_result"
    }
   ],
   "source": [
    "S.name #sunny is printed as it is a property inside the student class.\n",
    "#and if i happen to comment the constructor function out from this i will get Dad as the answr."
   ]
  },
  {
   "cell_type": "code",
   "execution_count": 27,
   "metadata": {},
   "outputs": [
    {
     "data": {
      "text/plain": [
       "'Dad'"
      ]
     },
     "execution_count": 27,
     "metadata": {},
     "output_type": "execute_result"
    }
   ],
   "source": [
    "S.name # takes the attribute from User. "
   ]
  },
  {
   "cell_type": "code",
   "execution_count": null,
   "metadata": {},
   "outputs": [],
   "source": []
  },
  {
   "cell_type": "markdown",
   "metadata": {},
   "source": [
    "# EXAMPLE 2"
   ]
  },
  {
   "cell_type": "code",
   "execution_count": 28,
   "metadata": {},
   "outputs": [],
   "source": [
    "class Phone:\n",
    "    def __init__(self,price,brand,camera):\n",
    "        self.price = price\n",
    "        self.brand = brand\n",
    "        self.camera = camera\n",
    "\n",
    "\n",
    "    def buy(self):\n",
    "        print(\"buying a phone\")\n",
    "\n",
    "\n",
    "class smartphone(Phone): #inherit the Phone\n",
    "    pass\n",
    "\n"
   ]
  },
  {
   "cell_type": "code",
   "execution_count": 30,
   "metadata": {},
   "outputs": [
    {
     "ename": "TypeError",
     "evalue": "Phone.__init__() missing 3 required positional arguments: 'price', 'brand', and 'camera'",
     "output_type": "error",
     "traceback": [
      "\u001b[1;31m---------------------------------------------------------------------------\u001b[0m",
      "\u001b[1;31mTypeError\u001b[0m                                 Traceback (most recent call last)",
      "Cell \u001b[1;32mIn[30], line 1\u001b[0m\n\u001b[1;32m----> 1\u001b[0m S\u001b[38;5;241m=\u001b[39m \u001b[43msmartphone\u001b[49m\u001b[43m(\u001b[49m\u001b[43m)\u001b[49m\n\u001b[0;32m      3\u001b[0m \u001b[38;5;66;03m# here currently we dont have any constructor for the \"smartphone\" class(it is the child class.)\u001b[39;00m\n\u001b[0;32m      4\u001b[0m \u001b[38;5;66;03m# it will now refer to the constructor of the class \"Phone\" which is a parent class. \u001b[39;00m\n\u001b[0;32m      5\u001b[0m \u001b[38;5;66;03m# and this parent class taken 3 arguments/inputs which you need to give it for initialising.\u001b[39;00m\n",
      "\u001b[1;31mTypeError\u001b[0m: Phone.__init__() missing 3 required positional arguments: 'price', 'brand', and 'camera'"
     ]
    }
   ],
   "source": [
    "S= smartphone()\n",
    "\n",
    "# here currently we dont have any constructor for the \"smartphone\" class(it is the child class.)\n",
    "# it will now refer to the constructor of the class \"Phone\" which is a parent class. \n",
    "# and this parent class taken 3 arguments/inputs which you need to give it for initialising."
   ]
  },
  {
   "cell_type": "code",
   "execution_count": 31,
   "metadata": {},
   "outputs": [],
   "source": [
    "S= smartphone(2000,\"apple\",3)"
   ]
  },
  {
   "cell_type": "code",
   "execution_count": 32,
   "metadata": {},
   "outputs": [
    {
     "name": "stdout",
     "output_type": "stream",
     "text": [
      "buying a phone\n"
     ]
    }
   ],
   "source": [
    "S.buy()"
   ]
  },
  {
   "cell_type": "markdown",
   "metadata": {},
   "source": [
    "# EXAMPLE 3"
   ]
  },
  {
   "cell_type": "code",
   "execution_count": 33,
   "metadata": {},
   "outputs": [],
   "source": [
    "class Phone:\n",
    "    def __init__(self,price, brand, camera):\n",
    "        print(\"Inside phone constructor \")\n",
    "        self.price = price\n",
    "        self.brand = brand\n",
    "        self.camera = camera\n",
    "\n",
    "    def buy(self):\n",
    "        print(\"Buying a phone\")\n",
    "\n",
    "\n",
    "\n",
    "class smartphone(Phone):\n",
    "    def __init__(self,os,ram):\n",
    "        self.os = os\n",
    "        self.ram= ram\n",
    "        print(\"Inside smartphone constructor \")\n",
    "\n",
    "\n"
   ]
  },
  {
   "cell_type": "code",
   "execution_count": 35,
   "metadata": {},
   "outputs": [
    {
     "name": "stdout",
     "output_type": "stream",
     "text": [
      "Inside smartphone constructor \n"
     ]
    }
   ],
   "source": [
    "S = smartphone(\"android\",8)"
   ]
  },
  {
   "cell_type": "code",
   "execution_count": 37,
   "metadata": {},
   "outputs": [
    {
     "ename": "AttributeError",
     "evalue": "'smartphone' object has no attribute 'brand'",
     "output_type": "error",
     "traceback": [
      "\u001b[1;31m---------------------------------------------------------------------------\u001b[0m",
      "\u001b[1;31mAttributeError\u001b[0m                            Traceback (most recent call last)",
      "Cell \u001b[1;32mIn[37], line 1\u001b[0m\n\u001b[1;32m----> 1\u001b[0m \u001b[43mS\u001b[49m\u001b[38;5;241;43m.\u001b[39;49m\u001b[43mbrand\u001b[49m \u001b[38;5;66;03m#no because child class has its own constructor so it wont see parent's class constructuir\u001b[39;00m\n",
      "\u001b[1;31mAttributeError\u001b[0m: 'smartphone' object has no attribute 'brand'"
     ]
    }
   ],
   "source": [
    "S.brand #no because child class has its own constructor so it wont see parent's class constructuir"
   ]
  },
  {
   "cell_type": "markdown",
   "metadata": {},
   "source": [
    "# EXAMPLE 3"
   ]
  },
  {
   "cell_type": "code",
   "execution_count": 38,
   "metadata": {},
   "outputs": [],
   "source": [
    "class Phone:\n",
    "    def __init__(self, price, brand, camera):\n",
    "        print(\"Inside phone constructor\")\n",
    "        self.__price = price #private property\n",
    "        self.brand = brand\n",
    "        self.camera = camera\n",
    "\n",
    "    def buy(self):\n",
    "        print(\"buying a phone \")\n",
    "\n",
    "\n",
    "class smartphone(Phone):\n",
    "    def check(self):\n",
    "        print(self.__price) #inheritance cannot access private property\n"
   ]
  },
  {
   "cell_type": "code",
   "execution_count": 39,
   "metadata": {},
   "outputs": [
    {
     "name": "stdout",
     "output_type": "stream",
     "text": [
      "Inside phone constructor\n"
     ]
    }
   ],
   "source": [
    "S= smartphone(200000, \"apple\", 3)"
   ]
  },
  {
   "cell_type": "code",
   "execution_count": 40,
   "metadata": {},
   "outputs": [
    {
     "ename": "AttributeError",
     "evalue": "'smartphone' object has no attribute '_smartphone__price'",
     "output_type": "error",
     "traceback": [
      "\u001b[1;31m---------------------------------------------------------------------------\u001b[0m",
      "\u001b[1;31mAttributeError\u001b[0m                            Traceback (most recent call last)",
      "Cell \u001b[1;32mIn[40], line 1\u001b[0m\n\u001b[1;32m----> 1\u001b[0m \u001b[43mS\u001b[49m\u001b[38;5;241;43m.\u001b[39;49m\u001b[43mcheck\u001b[49m\u001b[43m(\u001b[49m\u001b[43m)\u001b[49m\n",
      "Cell \u001b[1;32mIn[38], line 14\u001b[0m, in \u001b[0;36msmartphone.check\u001b[1;34m(self)\u001b[0m\n\u001b[0;32m     13\u001b[0m \u001b[38;5;28;01mdef\u001b[39;00m \u001b[38;5;21mcheck\u001b[39m(\u001b[38;5;28mself\u001b[39m):\n\u001b[1;32m---> 14\u001b[0m     \u001b[38;5;28mprint\u001b[39m(\u001b[38;5;28;43mself\u001b[39;49m\u001b[38;5;241;43m.\u001b[39;49m\u001b[43m__price\u001b[49m)\n",
      "\u001b[1;31mAttributeError\u001b[0m: 'smartphone' object has no attribute '_smartphone__price'"
     ]
    }
   ],
   "source": [
    "S.check() #this error occurs becaouse inheritance cannot access private properties. "
   ]
  },
  {
   "cell_type": "markdown",
   "metadata": {},
   "source": [
    "# EXAMPLE 4"
   ]
  },
  {
   "cell_type": "code",
   "execution_count": null,
   "metadata": {},
   "outputs": [],
   "source": [
    "\"\"\"if we really want to access the private variables then you can do so by using getter function.\"\"\""
   ]
  },
  {
   "cell_type": "code",
   "execution_count": 43,
   "metadata": {},
   "outputs": [],
   "source": [
    "class Phone:\n",
    "    def __init__(self, price, brand, camera):\n",
    "        print(\"Inside phone constructor\")\n",
    "        self.__price = price\n",
    "        self.brand = brand\n",
    "        self.camera = camera\n",
    "\n",
    "    def buy(self):\n",
    "        print(\"Buying a phone\")\n",
    "\n",
    "    #getter method\n",
    "    def get_price(self):\n",
    "        return self.__price \n",
    "    \n",
    "\n",
    "class smartphone(Phone):\n",
    "    def check(self):\n",
    "        print(self.get_price()) #accessing the private variable using the getter function.\n",
    "    \n"
   ]
  },
  {
   "cell_type": "code",
   "execution_count": 44,
   "metadata": {},
   "outputs": [
    {
     "name": "stdout",
     "output_type": "stream",
     "text": [
      "Inside phone constructor\n"
     ]
    }
   ],
   "source": [
    "S= smartphone(2000, \"apple\",3)"
   ]
  },
  {
   "cell_type": "code",
   "execution_count": 45,
   "metadata": {},
   "outputs": [
    {
     "name": "stdout",
     "output_type": "stream",
     "text": [
      "2000\n"
     ]
    }
   ],
   "source": [
    "S.check()"
   ]
  },
  {
   "cell_type": "markdown",
   "metadata": {},
   "source": [
    "# EXample 4"
   ]
  },
  {
   "cell_type": "code",
   "execution_count": 47,
   "metadata": {},
   "outputs": [
    {
     "name": "stdout",
     "output_type": "stream",
     "text": [
      "100\n",
      "This is in child class\n"
     ]
    }
   ],
   "source": [
    "class Parent:\n",
    "\n",
    "    def __init__(self,num):\n",
    "        self.__num=num\n",
    "\n",
    "    def get_num(self):\n",
    "        return self.__num\n",
    "\n",
    "class Child(Parent):\n",
    "\n",
    "    def show(self):\n",
    "        print(\"This is in child class\")\n",
    "\n",
    "son=Child(100)\n",
    "print(son.get_num())\n",
    "son.show()"
   ]
  },
  {
   "cell_type": "code",
   "execution_count": 48,
   "metadata": {},
   "outputs": [],
   "source": [
    "son=Child(100)"
   ]
  },
  {
   "cell_type": "code",
   "execution_count": null,
   "metadata": {},
   "outputs": [],
   "source": []
  },
  {
   "cell_type": "markdown",
   "metadata": {},
   "source": [
    "# EXample 5"
   ]
  },
  {
   "cell_type": "code",
   "execution_count": 49,
   "metadata": {},
   "outputs": [],
   "source": [
    "class Parent:\n",
    "\n",
    "    def __init__(self,num):\n",
    "        self.__num=num\n",
    "\n",
    "    def get_num(self):\n",
    "        return self.__num\n",
    "\n",
    "class Child(Parent):\n",
    "\n",
    "    def __init__(self,val,num):\n",
    "        self.__val=val\n",
    "\n",
    "    def get_val(self):\n",
    "        return self.__val\n",
    "\n",
    "# son=Child(100,10)\n",
    "# print(\"Parent: Num:\",son.get_num())\n",
    "# print(\"Child: Val:\",son.get_val())"
   ]
  },
  {
   "cell_type": "code",
   "execution_count": 50,
   "metadata": {},
   "outputs": [],
   "source": [
    "son = Child(100,10)"
   ]
  },
  {
   "cell_type": "code",
   "execution_count": 51,
   "metadata": {},
   "outputs": [
    {
     "ename": "AttributeError",
     "evalue": "'Child' object has no attribute '_Parent__num'",
     "output_type": "error",
     "traceback": [
      "\u001b[1;31m---------------------------------------------------------------------------\u001b[0m",
      "\u001b[1;31mAttributeError\u001b[0m                            Traceback (most recent call last)",
      "Cell \u001b[1;32mIn[51], line 1\u001b[0m\n\u001b[1;32m----> 1\u001b[0m \u001b[43mson\u001b[49m\u001b[38;5;241;43m.\u001b[39;49m\u001b[43mget_num\u001b[49m\u001b[43m(\u001b[49m\u001b[43m)\u001b[49m\n",
      "Cell \u001b[1;32mIn[49], line 7\u001b[0m, in \u001b[0;36mParent.get_num\u001b[1;34m(self)\u001b[0m\n\u001b[0;32m      6\u001b[0m \u001b[38;5;28;01mdef\u001b[39;00m \u001b[38;5;21mget_num\u001b[39m(\u001b[38;5;28mself\u001b[39m):\n\u001b[1;32m----> 7\u001b[0m     \u001b[38;5;28;01mreturn\u001b[39;00m \u001b[38;5;28;43mself\u001b[39;49m\u001b[38;5;241;43m.\u001b[39;49m\u001b[43m__num\u001b[49m\n",
      "\u001b[1;31mAttributeError\u001b[0m: 'Child' object has no attribute '_Parent__num'"
     ]
    }
   ],
   "source": [
    "son.get_num()"
   ]
  },
  {
   "cell_type": "code",
   "execution_count": 52,
   "metadata": {},
   "outputs": [
    {
     "data": {
      "text/plain": [
       "100"
      ]
     },
     "execution_count": 52,
     "metadata": {},
     "output_type": "execute_result"
    }
   ],
   "source": [
    "son.get_val()"
   ]
  },
  {
   "cell_type": "code",
   "execution_count": null,
   "metadata": {},
   "outputs": [],
   "source": []
  },
  {
   "cell_type": "code",
   "execution_count": null,
   "metadata": {},
   "outputs": [],
   "source": []
  }
 ],
 "metadata": {
  "kernelspec": {
   "display_name": "base",
   "language": "python",
   "name": "python3"
  },
  "language_info": {
   "codemirror_mode": {
    "name": "ipython",
    "version": 3
   },
   "file_extension": ".py",
   "mimetype": "text/x-python",
   "name": "python",
   "nbconvert_exporter": "python",
   "pygments_lexer": "ipython3",
   "version": "3.11.5"
  }
 },
 "nbformat": 4,
 "nbformat_minor": 2
}
