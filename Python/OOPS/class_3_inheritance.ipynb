{
 "cells": [
  {
   "cell_type": "code",
   "execution_count": null,
   "metadata": {},
   "outputs": [],
   "source": []
  },
  {
   "cell_type": "markdown",
   "metadata": {},
   "source": [
    "# aggregation (now depricated)"
   ]
  },
  {
   "cell_type": "markdown",
   "metadata": {},
   "source": [
    "## class relationship \n",
    "1. aggregation.(Has a relationship among different classess as one class owns other class.)\n",
    "2. Inheritance. \n"
   ]
  },
  {
   "cell_type": "code",
   "execution_count": 2,
   "metadata": {},
   "outputs": [
    {
     "name": "stdout",
     "output_type": "stream",
     "text": [
      "Karnataka 4545 bengaluru\n"
     ]
    }
   ],
   "source": [
    "#this is the first class\n",
    "class Customer:\n",
    "    def __init__(self,name,gender,address):\n",
    "        self.name = name   #name and gender are single attributes \n",
    "        self.gender = gender #all these are public variables. \n",
    "        self.address = address #address is a complex attribute as address includes city,state etc.\n",
    "\n",
    "    def print_address(self): #making a method inside the class #public method.\n",
    "        print(self.address.city, self.address.pin, self.address.state)\n",
    "\n",
    "\n",
    "\n",
    "#this is a different class\n",
    "# whatever attributes there are in Address class can be accessed through Customer class. \n",
    "class Address:\n",
    "    def __init__(self,city,pin,state): #as address is quite complex attribute.\n",
    "        self.city= city\n",
    "        self.pin = pin\n",
    "        self.state = state\n",
    "\n",
    "\n",
    "\n",
    "\n",
    "#address object\n",
    "adds = Address(\"Karnataka\",4545,\"bengaluru\") #this is an object of address class \n",
    "\n",
    "#customer object\n",
    "cus = Customer(\"Nikita\",\"Male\",adds) #passing the object of address class to this class \"customer\" class.\n",
    "\n",
    "cus.print_address() #this is aggregation..connect two class together ie. aggregation\n",
    "# that is whatever is there in address class that can be accesed through customer class. \n",
    "# Customer (this will have diamond, this is a Master class) owns the Address class \n"
   ]
  },
  {
   "cell_type": "markdown",
   "metadata": {},
   "source": [
    "# Inheritance"
   ]
  },
  {
   "cell_type": "code",
   "execution_count": null,
   "metadata": {},
   "outputs": [],
   "source": []
  },
  {
   "cell_type": "code",
   "execution_count": null,
   "metadata": {},
   "outputs": [],
   "source": []
  },
  {
   "cell_type": "code",
   "execution_count": null,
   "metadata": {},
   "outputs": [],
   "source": []
  },
  {
   "cell_type": "code",
   "execution_count": null,
   "metadata": {},
   "outputs": [],
   "source": []
  },
  {
   "cell_type": "code",
   "execution_count": null,
   "metadata": {},
   "outputs": [],
   "source": []
  },
  {
   "cell_type": "code",
   "execution_count": null,
   "metadata": {},
   "outputs": [],
   "source": []
  },
  {
   "cell_type": "code",
   "execution_count": null,
   "metadata": {},
   "outputs": [],
   "source": []
  },
  {
   "cell_type": "code",
   "execution_count": null,
   "metadata": {},
   "outputs": [],
   "source": []
  },
  {
   "cell_type": "code",
   "execution_count": null,
   "metadata": {},
   "outputs": [],
   "source": []
  },
  {
   "cell_type": "code",
   "execution_count": null,
   "metadata": {},
   "outputs": [],
   "source": []
  },
  {
   "cell_type": "code",
   "execution_count": null,
   "metadata": {},
   "outputs": [],
   "source": []
  },
  {
   "cell_type": "code",
   "execution_count": null,
   "metadata": {},
   "outputs": [],
   "source": []
  },
  {
   "cell_type": "code",
   "execution_count": null,
   "metadata": {},
   "outputs": [],
   "source": []
  },
  {
   "cell_type": "code",
   "execution_count": null,
   "metadata": {},
   "outputs": [],
   "source": []
  }
 ],
 "metadata": {
  "kernelspec": {
   "display_name": "base",
   "language": "python",
   "name": "python3"
  },
  "language_info": {
   "codemirror_mode": {
    "name": "ipython",
    "version": 3
   },
   "file_extension": ".py",
   "mimetype": "text/x-python",
   "name": "python",
   "nbconvert_exporter": "python",
   "pygments_lexer": "ipython3",
   "version": "3.11.5"
  }
 },
 "nbformat": 4,
 "nbformat_minor": 2
}
