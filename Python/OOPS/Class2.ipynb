{
 "cells": [
  {
   "cell_type": "markdown",
   "metadata": {},
   "source": [
    "# ENCAPSULATION\n",
    "\n",
    "## one of the fundamental concepts in oops and describes the idea of wrapping the data and method which the user wont get to know. "
   ]
  },
  {
   "cell_type": "code",
   "execution_count": null,
   "metadata": {},
   "outputs": [],
   "source": [
    "##static keyword"
   ]
  },
  {
   "cell_type": "code",
   "execution_count": null,
   "metadata": {},
   "outputs": [],
   "source": []
  },
  {
   "cell_type": "markdown",
   "metadata": {},
   "source": [
    "## when we are hardcoding the variables within that class"
   ]
  },
  {
   "cell_type": "code",
   "execution_count": 4,
   "metadata": {},
   "outputs": [],
   "source": [
    "class Person: #person is the name of the class\n",
    "\n",
    "    def __init__(self): #constructor function\n",
    "        self.name = \"Nikita\"   #keep all the variables in constructor function\n",
    "        self.country = \"UK\" #store all the data properties within this particular constructor function.\n",
    "\n",
    "    def greeting(self):         #calling this particular method. \n",
    "        if self.country == \"India\":\n",
    "            print(f\"Namaste, {self.name}\")\n",
    "        else:\n",
    "            print(f\"Hello, {self.name}\")"
   ]
  },
  {
   "cell_type": "code",
   "execution_count": 5,
   "metadata": {},
   "outputs": [],
   "source": [
    "#create an object\n",
    "\n",
    "P = Person()"
   ]
  },
  {
   "cell_type": "code",
   "execution_count": 6,
   "metadata": {},
   "outputs": [
    {
     "name": "stdout",
     "output_type": "stream",
     "text": [
      "Hello, Nikita\n"
     ]
    }
   ],
   "source": [
    "P.greeting()"
   ]
  },
  {
   "cell_type": "markdown",
   "metadata": {},
   "source": [
    "## when we are not hardcoding the variables within the class"
   ]
  },
  {
   "cell_type": "code",
   "execution_count": 7,
   "metadata": {},
   "outputs": [],
   "source": [
    "class Person:\n",
    "\n",
    "    def __init__(self,name, country): #self is a default argument as this particular constructor is belonging to the class Person\n",
    "        self.name = name\n",
    "        self.country = country\n",
    "\n",
    "    def greetings(self):\n",
    "        if self.country == \"India\":\n",
    "            print(f\"Namaste, {self.name}\")\n",
    "\n",
    "        else:\n",
    "            print(f\"Hello, {self.name}\")"
   ]
  },
  {
   "cell_type": "code",
   "execution_count": 12,
   "metadata": {},
   "outputs": [
    {
     "ename": "TypeError",
     "evalue": "Person.__init__() missing 2 required positional arguments: 'name' and 'country'",
     "output_type": "error",
     "traceback": [
      "\u001b[1;31m---------------------------------------------------------------------------\u001b[0m",
      "\u001b[1;31mTypeError\u001b[0m                                 Traceback (most recent call last)",
      "Cell \u001b[1;32mIn[12], line 1\u001b[0m\n\u001b[1;32m----> 1\u001b[0m \u001b[38;5;28mobject\u001b[39m \u001b[38;5;241m=\u001b[39m \u001b[43mPerson\u001b[49m\u001b[43m(\u001b[49m\u001b[43m)\u001b[49m\n",
      "\u001b[1;31mTypeError\u001b[0m: Person.__init__() missing 2 required positional arguments: 'name' and 'country'"
     ]
    }
   ],
   "source": [
    "object = Person() #it gives this error because constructor needs two arguments."
   ]
  },
  {
   "cell_type": "code",
   "execution_count": 14,
   "metadata": {},
   "outputs": [],
   "source": [
    "object = Person(\"Nikita\",\"UK\") #created an object"
   ]
  },
  {
   "cell_type": "code",
   "execution_count": 20,
   "metadata": {},
   "outputs": [
    {
     "name": "stdout",
     "output_type": "stream",
     "text": [
      "Hello, Nikita\n"
     ]
    }
   ],
   "source": [
    "object.greetings()"
   ]
  },
  {
   "cell_type": "code",
   "execution_count": 21,
   "metadata": {},
   "outputs": [
    {
     "data": {
      "text/plain": [
       "'Nikita'"
      ]
     },
     "execution_count": 21,
     "metadata": {},
     "output_type": "execute_result"
    }
   ],
   "source": [
    "object.name"
   ]
  },
  {
   "cell_type": "code",
   "execution_count": 22,
   "metadata": {},
   "outputs": [
    {
     "data": {
      "text/plain": [
       "'UK'"
      ]
     },
     "execution_count": 22,
     "metadata": {},
     "output_type": "execute_result"
    }
   ],
   "source": [
    "object.country"
   ]
  },
  {
   "cell_type": "code",
   "execution_count": 23,
   "metadata": {},
   "outputs": [
    {
     "ename": "AttributeError",
     "evalue": "'Person' object has no attribute 'gender'",
     "output_type": "error",
     "traceback": [
      "\u001b[1;31m---------------------------------------------------------------------------\u001b[0m",
      "\u001b[1;31mAttributeError\u001b[0m                            Traceback (most recent call last)",
      "Cell \u001b[1;32mIn[23], line 2\u001b[0m\n\u001b[0;32m      1\u001b[0m \u001b[38;5;66;03m#access gender\u001b[39;00m\n\u001b[1;32m----> 2\u001b[0m \u001b[38;5;28;43mobject\u001b[39;49m\u001b[38;5;241;43m.\u001b[39;49m\u001b[43mgender\u001b[49m\n",
      "\u001b[1;31mAttributeError\u001b[0m: 'Person' object has no attribute 'gender'"
     ]
    }
   ],
   "source": [
    "#access gender\n",
    "object.gender #gender variable is not defined. "
   ]
  },
  {
   "cell_type": "markdown",
   "metadata": {},
   "source": [
    "### Attribute creation from outside of the class"
   ]
  },
  {
   "cell_type": "code",
   "execution_count": 24,
   "metadata": {},
   "outputs": [],
   "source": [
    "P.gender = \"Male\""
   ]
  },
  {
   "cell_type": "code",
   "execution_count": 25,
   "metadata": {},
   "outputs": [
    {
     "data": {
      "text/plain": [
       "'Male'"
      ]
     },
     "execution_count": 25,
     "metadata": {},
     "output_type": "execute_result"
    }
   ],
   "source": [
    "P.gender"
   ]
  },
  {
   "cell_type": "markdown",
   "metadata": {},
   "source": [
    "## class is a mutable object - we can chnage it from outside as well. "
   ]
  },
  {
   "cell_type": "markdown",
   "metadata": {},
   "source": [
    "## Reference Variables"
   ]
  },
  {
   "cell_type": "code",
   "execution_count": 26,
   "metadata": {},
   "outputs": [],
   "source": [
    "class Person:  #name of the class\n",
    "\n",
    "    def __init__(self):         #constructor function\n",
    "        self.name = \"Nikita\"    #variables present in the constructor function\n",
    "        self.country = \"India\"\n",
    "\n",
    "    \n"
   ]
  },
  {
   "cell_type": "code",
   "execution_count": 27,
   "metadata": {},
   "outputs": [],
   "source": [
    "P = Person() #creating an object of the classs"
   ]
  },
  {
   "cell_type": "code",
   "execution_count": 28,
   "metadata": {},
   "outputs": [
    {
     "data": {
      "text/plain": [
       "<__main__.Person at 0x23c5abb2a10>"
      ]
     },
     "execution_count": 28,
     "metadata": {},
     "output_type": "execute_result"
    }
   ],
   "source": [
    "P"
   ]
  },
  {
   "cell_type": "code",
   "execution_count": 29,
   "metadata": {},
   "outputs": [],
   "source": [
    "#storing this objject in another variable q\n",
    "\n",
    "q= P"
   ]
  },
  {
   "cell_type": "code",
   "execution_count": 30,
   "metadata": {},
   "outputs": [
    {
     "data": {
      "text/plain": [
       "<__main__.Person at 0x23c5abb2a10>"
      ]
     },
     "execution_count": 30,
     "metadata": {},
     "output_type": "execute_result"
    }
   ],
   "source": [
    "q"
   ]
  },
  {
   "cell_type": "code",
   "execution_count": 31,
   "metadata": {},
   "outputs": [
    {
     "name": "stdout",
     "output_type": "stream",
     "text": [
      "2458243508752\n",
      "2458243508752\n"
     ]
    }
   ],
   "source": [
    "print(id(P)) #memory location of these variables. \n",
    "print(id(q))\n",
    "#both the variables point to the same location meaning whatver changes we do inside P would also reflect in q\n",
    "# and whatever changes we do inside q will also reflect in P.\n"
   ]
  },
  {
   "cell_type": "code",
   "execution_count": 32,
   "metadata": {},
   "outputs": [
    {
     "name": "stdout",
     "output_type": "stream",
     "text": [
      "Nikita\n"
     ]
    }
   ],
   "source": [
    "print(P.name)"
   ]
  },
  {
   "cell_type": "code",
   "execution_count": 33,
   "metadata": {},
   "outputs": [
    {
     "name": "stdout",
     "output_type": "stream",
     "text": [
      "Nikita\n"
     ]
    }
   ],
   "source": [
    "print(q.name)"
   ]
  },
  {
   "cell_type": "code",
   "execution_count": 34,
   "metadata": {},
   "outputs": [],
   "source": [
    "q.name = \"Sunny\""
   ]
  },
  {
   "cell_type": "code",
   "execution_count": 35,
   "metadata": {},
   "outputs": [
    {
     "name": "stdout",
     "output_type": "stream",
     "text": [
      "Sunny\n"
     ]
    }
   ],
   "source": [
    "print(P.name) #change is also reflected in P as it is pointing towards the same id. "
   ]
  },
  {
   "cell_type": "markdown",
   "metadata": {},
   "source": [
    "# ENCAPSULCATION\n",
    "## essentially just includes the concept of private variables within class \n",
    "## written using __balance defined within the class"
   ]
  },
  {
   "cell_type": "code",
   "execution_count": 40,
   "metadata": {},
   "outputs": [],
   "source": [
    "#Instance varibale\n",
    "\n",
    "class Person:\n",
    "    def __init__(self, name, country):\n",
    "        self.name = name\n",
    "        self.country = country"
   ]
  },
  {
   "cell_type": "code",
   "execution_count": 37,
   "metadata": {},
   "outputs": [],
   "source": [
    "p1= Person(\"Bappy\",\"UK\") #storing multiple varibale \n",
    "p2 = Person(\"Sunny\",\"India\")"
   ]
  },
  {
   "cell_type": "code",
   "execution_count": 38,
   "metadata": {},
   "outputs": [
    {
     "data": {
      "text/plain": [
       "'Bappy'"
      ]
     },
     "execution_count": 38,
     "metadata": {},
     "output_type": "execute_result"
    }
   ],
   "source": [
    "p1.name"
   ]
  },
  {
   "cell_type": "code",
   "execution_count": 39,
   "metadata": {},
   "outputs": [
    {
     "data": {
      "text/plain": [
       "'Sunny'"
      ]
     },
     "execution_count": 39,
     "metadata": {},
     "output_type": "execute_result"
    }
   ],
   "source": [
    "p2.name"
   ]
  },
  {
   "cell_type": "code",
   "execution_count": 41,
   "metadata": {},
   "outputs": [],
   "source": [
    "#simple variable\n",
    "a= 2 #this simple variables can store only one data."
   ]
  },
  {
   "cell_type": "markdown",
   "metadata": {},
   "source": [
    "## Instance variable like before: there I can store multiple data and \n",
    "## In instance varibale from one class/template we can make different different objects. \n",
    "## In simple variable I can store only one data. "
   ]
  },
  {
   "cell_type": "code",
   "execution_count": 55,
   "metadata": {},
   "outputs": [],
   "source": [
    "#Encapsulation demo\n",
    "\n",
    "#Not an optimised way of writing the class\n",
    "\n",
    "class Atm:\n",
    "\n",
    "    #constructor(special function) - superpower\n",
    "\n",
    "    def __init__(self): #constructor function\n",
    "\n",
    "        self.pin = \"\"\n",
    "        self.balance = 0\n",
    "        # self.menu() #to run the menu function\n",
    "        \n",
    "\n",
    "    def menu(self):\n",
    "\n",
    "        user_input = input(\n",
    "            \"\"\"\n",
    "        Hi, How can I help you?\n",
    "\n",
    "        1. Press 1 to create pin.\n",
    "        2. Press 2 to change pin.\n",
    "        3. Press 3 to check balance.\n",
    "        4. Press 4 to withdraw\n",
    "        5. Anything else to exit\n",
    "           \"\"\"\n",
    "        )\n",
    "\n",
    "\n",
    "        if user_input == '1':\n",
    "            #create a pin\n",
    "            self.create_pin()\n",
    "\n",
    "\n",
    "        elif user_input == '2':\n",
    "            #change pin\n",
    "            self.change_pin()\n",
    "\n",
    "        elif user_input == \"3\":\n",
    "            #check balance\n",
    "            self.check_balance()\n",
    "\n",
    "        elif  user_input == \"4\":\n",
    "            #withdraw\n",
    "            self.withdraw()\n",
    "\n",
    "        else:\n",
    "            exit()\n",
    "\n",
    "\n",
    "    def create_pin(self):\n",
    "        user_pin = input(\"Enter your pin: \")\n",
    "        self.pin = user_pin\n",
    "\n",
    "        user_balance = int(input(\"Enter balance: \"))\n",
    "        self.user_balance = user_balance\n",
    "\n",
    "        print(\"Pin created successfully!\")\n",
    "\n",
    "        #self.menu()\n",
    "\n",
    "\n",
    "    def change_pin(self):\n",
    "\n",
    "        old_pin = input(\"Enter old pin:\")\n",
    "\n",
    "        if old_pin == self.pin:\n",
    "\n",
    "            new_pin = input(\"Enter the new pin:\")\n",
    "            self.pin = new_pin\n",
    "\n",
    "            print(\"Pin changed successfully\")\n",
    "\n",
    "            #self.menu()\n",
    "\n",
    "        else:\n",
    "            print(\"wwrong pin\")\n",
    "\n",
    "            #self.menu()\n",
    "\n",
    "\n",
    "    def check_balance(self):\n",
    "        user_pin = input(\"enter pin:\")\n",
    "\n",
    "        if user_pin == self.pin:\n",
    "            print(f\"your balance is {self.balance}\")\n",
    "\n",
    "        else:\n",
    "            print(\"your pin is incorrect, pls try again\")\n",
    "\n",
    "        #self.menu()\n",
    "\n",
    "\n",
    "    def withdraw(self):\n",
    "\n",
    "        user_pin = input(\"enter your pin:\")\n",
    "        if user_pin == self.pin:\n",
    "\n",
    "            #allow withdrw\n",
    "\n",
    "            amount = int(input('enter the amounnt: '))\n",
    "\n",
    "            if amount <= self.balance:\n",
    "                self.balance = self.balance - amount\n",
    "                print(f\"Withdraw successfully and balance is {self.balance}\")\n",
    "\n",
    "            else:\n",
    "                print(\"you have insuffiecient balance\")\n",
    "\n",
    "\n",
    "        else:\n",
    "\n",
    "            print(\"wrong pin\")\n",
    "\n",
    "        #self.menu()\n"
   ]
  },
  {
   "cell_type": "code",
   "execution_count": 56,
   "metadata": {},
   "outputs": [],
   "source": [
    "obj = Atm()"
   ]
  },
  {
   "cell_type": "code",
   "execution_count": 57,
   "metadata": {},
   "outputs": [
    {
     "name": "stdout",
     "output_type": "stream",
     "text": [
      "Pin created successfully!\n"
     ]
    }
   ],
   "source": [
    "obj.create_pin()"
   ]
  },
  {
   "cell_type": "code",
   "execution_count": null,
   "metadata": {},
   "outputs": [],
   "source": []
  },
  {
   "cell_type": "code",
   "execution_count": 58,
   "metadata": {},
   "outputs": [
    {
     "data": {
      "text/plain": [
       "0"
      ]
     },
     "execution_count": 58,
     "metadata": {},
     "output_type": "execute_result"
    }
   ],
   "source": [
    "obj.balance"
   ]
  },
  {
   "cell_type": "code",
   "execution_count": 59,
   "metadata": {},
   "outputs": [
    {
     "name": "stdout",
     "output_type": "stream",
     "text": [
      "you have insuffiecient balance\n"
     ]
    }
   ],
   "source": [
    "obj.withdraw()"
   ]
  },
  {
   "cell_type": "code",
   "execution_count": 105,
   "metadata": {},
   "outputs": [],
   "source": [
    "#Optimised way of writing the class\n",
    "\n",
    "\n",
    "#Not an optimised way of writing the class\n",
    "\n",
    "class Atm:\n",
    "\n",
    "    #constructor(special function) - superpower\n",
    "\n",
    "    def __init__(self): #constructor function\n",
    "\n",
    "        self.pin = \"\" #this is a public varibale. anybody can access them. \n",
    "        self.__balance = 0 #private variable #this is called encapsuling - we cant change this varibale outside the class. \n",
    "        # self.menu() #to run the menu function\n",
    "        \n",
    "\n",
    "    def __menu(self): #encapuslating this method also and it wont be showing there. \n",
    "\n",
    "        user_input = input(\n",
    "            \"\"\"\n",
    "        Hi, How can I help you?\n",
    "\n",
    "        1. Press 1 to create pin.\n",
    "        2. Press 2 to change pin.\n",
    "        3. Press 3 to check balance.\n",
    "        4. Press 4 to withdraw\n",
    "        5. Anything else to exit\n",
    "           \"\"\"\n",
    "        )\n",
    "\n",
    "\n",
    "        if user_input == '1':\n",
    "            #create a pin\n",
    "            self.create_pin()\n",
    "\n",
    "\n",
    "        elif user_input == '2':\n",
    "            #change pin\n",
    "            self.change_pin()\n",
    "\n",
    "        elif user_input == \"3\":\n",
    "            #check balance\n",
    "            self.check_balance()\n",
    "\n",
    "        elif  user_input == \"4\":\n",
    "            #withdraw\n",
    "            self.withdraw()\n",
    "\n",
    "        else:\n",
    "            exit()\n",
    "\n",
    "\n",
    "    def create_pin(self):\n",
    "        user_pin = input(\"Enter your pin: \")\n",
    "        self.pin = user_pin\n",
    "\n",
    "        user_balance = int(input(\"Enter balance: \"))\n",
    "        self.user_balance = user_balance\n",
    "\n",
    "        print(\"Pin created successfully!\")\n",
    "\n",
    "        #self.menu()\n",
    "\n",
    "\n",
    "    def change_pin(self):\n",
    "\n",
    "        old_pin = input(\"Enter old pin:\")\n",
    "\n",
    "        if old_pin == self.pin:\n",
    "\n",
    "            new_pin = input(\"Enter the new pin:\")\n",
    "            self.pin = new_pin\n",
    "\n",
    "            print(\"Pin changed successfully\")\n",
    "\n",
    "            #self.menu()\n",
    "\n",
    "        else:\n",
    "            print(\"wwrong pin\")\n",
    "\n",
    "            #self.menu()\n",
    "\n",
    "\n",
    "    def check_balance(self):\n",
    "        user_pin = input(\"enter pin:\")\n",
    "\n",
    "        if user_pin == self.pin:\n",
    "            print(f\"your balance is {self.__balance}\")\n",
    "\n",
    "        else:\n",
    "            print(\"your pin is incorrect, pls try again\")\n",
    "\n",
    "        #self.menu()\n",
    "\n",
    "\n",
    "    def withdraw(self):\n",
    "\n",
    "        user_pin = input(\"enter your pin:\")\n",
    "        if user_pin == self.pin:\n",
    "\n",
    "            #allow withdrw\n",
    "\n",
    "            amount = int(input('enter the amounnt: '))\n",
    "\n",
    "            if amount <= self.__balance:\n",
    "                self.__balance = self.__balance - amount\n",
    "                print(f\"Withdraw successfully and balance is {self.__balance}\")\n",
    "\n",
    "            else:\n",
    "                print(\"you have insuffiecient balance\")\n",
    "\n",
    "\n",
    "        else:\n",
    "\n",
    "            print(\"wrong pin\")\n",
    "\n",
    "        #self.menu()\n"
   ]
  },
  {
   "cell_type": "code",
   "execution_count": 106,
   "metadata": {},
   "outputs": [],
   "source": [
    "obj = Atm()\n",
    "\n",
    "#private variables in class are stored as \"_ATM__balance\"\n",
    "\n",
    "#\"_classname__variablename\"\n"
   ]
  },
  {
   "cell_type": "code",
   "execution_count": 89,
   "metadata": {},
   "outputs": [
    {
     "ename": "AttributeError",
     "evalue": "'Atm' object has no attribute '__balance'",
     "output_type": "error",
     "traceback": [
      "\u001b[1;31m---------------------------------------------------------------------------\u001b[0m",
      "\u001b[1;31mAttributeError\u001b[0m                            Traceback (most recent call last)",
      "Cell \u001b[1;32mIn[89], line 1\u001b[0m\n\u001b[1;32m----> 1\u001b[0m \u001b[43mobj\u001b[49m\u001b[38;5;241;43m.\u001b[39;49m\u001b[43m__balance\u001b[49m\n",
      "\u001b[1;31mAttributeError\u001b[0m: 'Atm' object has no attribute '__balance'"
     ]
    }
   ],
   "source": [
    "obj.__balance"
   ]
  },
  {
   "cell_type": "code",
   "execution_count": 90,
   "metadata": {},
   "outputs": [
    {
     "ename": "AttributeError",
     "evalue": "'Atm' object has no attribute 'balance'",
     "output_type": "error",
     "traceback": [
      "\u001b[1;31m---------------------------------------------------------------------------\u001b[0m",
      "\u001b[1;31mAttributeError\u001b[0m                            Traceback (most recent call last)",
      "Cell \u001b[1;32mIn[90], line 1\u001b[0m\n\u001b[1;32m----> 1\u001b[0m \u001b[43mobj\u001b[49m\u001b[38;5;241;43m.\u001b[39;49m\u001b[43mbalance\u001b[49m\n",
      "\u001b[1;31mAttributeError\u001b[0m: 'Atm' object has no attribute 'balance'"
     ]
    }
   ],
   "source": [
    "obj.balance"
   ]
  },
  {
   "cell_type": "code",
   "execution_count": 107,
   "metadata": {},
   "outputs": [
    {
     "name": "stdout",
     "output_type": "stream",
     "text": [
      "Pin created successfully!\n"
     ]
    }
   ],
   "source": [
    "obj.create_pin() #pin: 1234\n",
    "#balance: 1000"
   ]
  },
  {
   "cell_type": "code",
   "execution_count": 108,
   "metadata": {},
   "outputs": [
    {
     "data": {
      "text/plain": [
       "0"
      ]
     },
     "execution_count": 108,
     "metadata": {},
     "output_type": "execute_result"
    }
   ],
   "source": [
    "obj._Atm__balance"
   ]
  },
  {
   "cell_type": "code",
   "execution_count": 99,
   "metadata": {},
   "outputs": [],
   "source": [
    "obj.__balance = \"are yiu mad\" #this is a completely new variable \n",
    "#and has no connection with the previous class"
   ]
  },
  {
   "cell_type": "code",
   "execution_count": 100,
   "metadata": {},
   "outputs": [
    {
     "data": {
      "text/plain": [
       "'are yiu mad'"
      ]
     },
     "execution_count": 100,
     "metadata": {},
     "output_type": "execute_result"
    }
   ],
   "source": [
    "obj.__balance"
   ]
  },
  {
   "cell_type": "code",
   "execution_count": 102,
   "metadata": {},
   "outputs": [
    {
     "name": "stdout",
     "output_type": "stream",
     "text": [
      "Withdraw successfully and balance is 1980\n"
     ]
    }
   ],
   "source": [
    "obj.withdraw() #1000 - 20(given amount)"
   ]
  },
  {
   "cell_type": "code",
   "execution_count": 103,
   "metadata": {},
   "outputs": [
    {
     "data": {
      "text/plain": [
       "1980"
      ]
     },
     "execution_count": 103,
     "metadata": {},
     "output_type": "execute_result"
    }
   ],
   "source": [
    "obj._Atm__balance #update balance after deducting the amount."
   ]
  },
  {
   "cell_type": "code",
   "execution_count": 109,
   "metadata": {},
   "outputs": [],
   "source": [
    "obj = Atm() #creating an object of the Atm class"
   ]
  },
  {
   "cell_type": "code",
   "execution_count": 110,
   "metadata": {},
   "outputs": [
    {
     "name": "stdout",
     "output_type": "stream",
     "text": [
      "Pin created successfully!\n"
     ]
    }
   ],
   "source": [
    "obj.create_pin() #calling the fucntion create_pin"
   ]
  },
  {
   "cell_type": "code",
   "execution_count": 111,
   "metadata": {},
   "outputs": [
    {
     "data": {
      "text/plain": [
       "0"
      ]
     },
     "execution_count": 111,
     "metadata": {},
     "output_type": "execute_result"
    }
   ],
   "source": [
    "obj._Atm__balance"
   ]
  },
  {
   "cell_type": "code",
   "execution_count": 112,
   "metadata": {},
   "outputs": [],
   "source": [
    "obj._Atm__balance = \"areyou mad\" #change the pvt variable using this method. "
   ]
  },
  {
   "cell_type": "code",
   "execution_count": 113,
   "metadata": {},
   "outputs": [
    {
     "ename": "TypeError",
     "evalue": "'<=' not supported between instances of 'int' and 'str'",
     "output_type": "error",
     "traceback": [
      "\u001b[1;31m---------------------------------------------------------------------------\u001b[0m",
      "\u001b[1;31mTypeError\u001b[0m                                 Traceback (most recent call last)",
      "Cell \u001b[1;32mIn[113], line 1\u001b[0m\n\u001b[1;32m----> 1\u001b[0m \u001b[43mobj\u001b[49m\u001b[38;5;241;43m.\u001b[39;49m\u001b[43mwithdraw\u001b[49m\u001b[43m(\u001b[49m\u001b[43m)\u001b[49m\n",
      "Cell \u001b[1;32mIn[105], line 105\u001b[0m, in \u001b[0;36mAtm.withdraw\u001b[1;34m(self)\u001b[0m\n\u001b[0;32m     99\u001b[0m \u001b[38;5;28;01mif\u001b[39;00m user_pin \u001b[38;5;241m==\u001b[39m \u001b[38;5;28mself\u001b[39m\u001b[38;5;241m.\u001b[39mpin:\n\u001b[0;32m    100\u001b[0m \n\u001b[0;32m    101\u001b[0m     \u001b[38;5;66;03m#allow withdrw\u001b[39;00m\n\u001b[0;32m    103\u001b[0m     amount \u001b[38;5;241m=\u001b[39m \u001b[38;5;28mint\u001b[39m(\u001b[38;5;28minput\u001b[39m(\u001b[38;5;124m'\u001b[39m\u001b[38;5;124menter the amounnt: \u001b[39m\u001b[38;5;124m'\u001b[39m))\n\u001b[1;32m--> 105\u001b[0m     \u001b[38;5;28;01mif\u001b[39;00m \u001b[43mamount\u001b[49m\u001b[43m \u001b[49m\u001b[38;5;241;43m<\u001b[39;49m\u001b[38;5;241;43m=\u001b[39;49m\u001b[43m \u001b[49m\u001b[38;5;28;43mself\u001b[39;49m\u001b[38;5;241;43m.\u001b[39;49m\u001b[43m__balance\u001b[49m:\n\u001b[0;32m    106\u001b[0m         \u001b[38;5;28mself\u001b[39m\u001b[38;5;241m.\u001b[39m__balance \u001b[38;5;241m=\u001b[39m \u001b[38;5;28mself\u001b[39m\u001b[38;5;241m.\u001b[39m__balance \u001b[38;5;241m-\u001b[39m amount\n\u001b[0;32m    107\u001b[0m         \u001b[38;5;28mprint\u001b[39m(\u001b[38;5;124mf\u001b[39m\u001b[38;5;124m\"\u001b[39m\u001b[38;5;124mWithdraw successfully and balance is \u001b[39m\u001b[38;5;132;01m{\u001b[39;00m\u001b[38;5;28mself\u001b[39m\u001b[38;5;241m.\u001b[39m__balance\u001b[38;5;132;01m}\u001b[39;00m\u001b[38;5;124m\"\u001b[39m)\n",
      "\u001b[1;31mTypeError\u001b[0m: '<=' not supported between instances of 'int' and 'str'"
     ]
    }
   ],
   "source": [
    "obj.withdraw()"
   ]
  },
  {
   "cell_type": "code",
   "execution_count": 114,
   "metadata": {},
   "outputs": [],
   "source": [
    "## in python nothing is too private.\n",
    "# as it is made for adults. "
   ]
  },
  {
   "cell_type": "code",
   "execution_count": null,
   "metadata": {},
   "outputs": [],
   "source": []
  },
  {
   "cell_type": "markdown",
   "metadata": {},
   "source": [
    "## getter and setter methods are only for the private variables only. \n"
   ]
  },
  {
   "cell_type": "code",
   "execution_count": 128,
   "metadata": {},
   "outputs": [],
   "source": [
    "class Atm:\n",
    "\n",
    "    def __init__(self):\n",
    "        self.pin = \"\"\n",
    "        self.__balance = 0\n",
    "\n",
    "    #getter method\n",
    "    def get_balance(self):  #this is a method of Atm class\n",
    "        return self.__balance #no need to call _Atm__balance as I'm accessing this variable inside of the class Atm.\n",
    "    \n",
    "     \n",
    "    #setter method #set a new value in pvt variable. \n",
    "    def set_balance(self,new_balance): #user will give a new balance and it will be updated.\n",
    "        if type(new_balance) == int: #if the type is integer then allow it to change the new balance.\n",
    "            \n",
    "            self.__balance = new_balance\n",
    "\n",
    "        else:\n",
    "            print(\"wrong type of balance\")\n",
    "\n",
    "\n",
    "\n",
    "    def __menu(self): #encapuslating this method also and it wont be showing there. \n",
    "\n",
    "        user_input = input(\n",
    "            \"\"\"\n",
    "        Hi, How can I help you?\n",
    "\n",
    "        1. Press 1 to create pin.\n",
    "        2. Press 2 to change pin.\n",
    "        3. Press 3 to check balance.\n",
    "        4. Press 4 to withdraw\n",
    "        5. Anything else to exit\n",
    "           \"\"\"\n",
    "        )\n",
    "\n",
    "\n",
    "        if user_input == '1':\n",
    "            #create a pin\n",
    "            self.create_pin()\n",
    "\n",
    "\n",
    "        elif user_input == '2':\n",
    "            #change pin\n",
    "            self.change_pin()\n",
    "\n",
    "        elif user_input == \"3\":\n",
    "            #check balance\n",
    "            self.check_balance()\n",
    "\n",
    "        elif  user_input == \"4\":\n",
    "            #withdraw\n",
    "            self.withdraw()\n",
    "\n",
    "        else:\n",
    "            exit()\n",
    "\n",
    "\n",
    "    def create_pin(self):\n",
    "        user_pin = input(\"Enter your pin: \")\n",
    "        self.pin = user_pin\n",
    "\n",
    "        user_balance = int(input(\"Enter balance: \"))\n",
    "        self.user_balance = user_balance\n",
    "\n",
    "        print(\"Pin created successfully!\")\n",
    "\n",
    "        #self.menu()\n",
    "\n",
    "\n",
    "    def change_pin(self):\n",
    "\n",
    "        old_pin = input(\"Enter old pin:\")\n",
    "\n",
    "        if old_pin == self.pin:\n",
    "\n",
    "            new_pin = input(\"Enter the new pin:\")\n",
    "            self.pin = new_pin\n",
    "\n",
    "            print(\"Pin changed successfully\")\n",
    "\n",
    "            #self.menu()\n",
    "\n",
    "        else:\n",
    "            print(\"wwrong pin\")\n",
    "\n",
    "            #self.menu()\n",
    "\n",
    "\n",
    "    def check_balance(self):\n",
    "        user_pin = input(\"enter pin:\")\n",
    "\n",
    "        if user_pin == self.pin:\n",
    "            print(f\"your balance is {self.__balance}\")\n",
    "\n",
    "        else:\n",
    "            print(\"your pin is incorrect, pls try again\")\n",
    "\n",
    "        #self.menu()\n",
    "\n",
    "\n",
    "    def withdraw(self):\n",
    "\n",
    "        user_pin = input(\"enter your pin:\")\n",
    "        if user_pin == self.pin:\n",
    "\n",
    "            #allow withdrw\n",
    "\n",
    "            amount = int(input('enter the amounnt: '))\n",
    "\n",
    "            if amount <= self.__balance:\n",
    "                self.__balance = self.__balance - amount\n",
    "                print(f\"Withdraw successfully and balance is {self.__balance}\")\n",
    "\n",
    "            else:\n",
    "                print(\"you have insuffiecient balance\")\n",
    "\n",
    "\n",
    "        else:\n",
    "\n",
    "            print(\"wrong pin\")\n",
    "\n",
    "        #self.menu()\n",
    "\n",
    "\n",
    "\n",
    "    "
   ]
  },
  {
   "cell_type": "code",
   "execution_count": 129,
   "metadata": {},
   "outputs": [],
   "source": [
    "obj = Atm()"
   ]
  },
  {
   "cell_type": "code",
   "execution_count": 130,
   "metadata": {},
   "outputs": [
    {
     "data": {
      "text/plain": [
       "0"
      ]
     },
     "execution_count": 130,
     "metadata": {},
     "output_type": "execute_result"
    }
   ],
   "source": [
    "obj.get_balance() # 0 balance because we have initialised this new object newly. "
   ]
  },
  {
   "cell_type": "code",
   "execution_count": null,
   "metadata": {},
   "outputs": [],
   "source": []
  },
  {
   "cell_type": "markdown",
   "metadata": {},
   "source": [
    "## part 1\n"
   ]
  },
  {
   "cell_type": "code",
   "execution_count": 119,
   "metadata": {},
   "outputs": [],
   "source": [
    "obj.set_balance(10000) #this functions asks for the argument"
   ]
  },
  {
   "cell_type": "code",
   "execution_count": 120,
   "metadata": {},
   "outputs": [
    {
     "data": {
      "text/plain": [
       "10000"
      ]
     },
     "execution_count": 120,
     "metadata": {},
     "output_type": "execute_result"
    }
   ],
   "source": [
    "obj.get_balance()"
   ]
  },
  {
   "cell_type": "code",
   "execution_count": null,
   "metadata": {},
   "outputs": [],
   "source": [
    "obj.set_balance"
   ]
  },
  {
   "cell_type": "markdown",
   "metadata": {},
   "source": [
    "## part2"
   ]
  },
  {
   "cell_type": "code",
   "execution_count": 124,
   "metadata": {},
   "outputs": [],
   "source": [
    "obj.set_balance(\"areyiumad\")"
   ]
  },
  {
   "cell_type": "code",
   "execution_count": 125,
   "metadata": {},
   "outputs": [
    {
     "data": {
      "text/plain": [
       "'areyiumad'"
      ]
     },
     "execution_count": 125,
     "metadata": {},
     "output_type": "execute_result"
    }
   ],
   "source": [
    "obj.get_balance()"
   ]
  },
  {
   "cell_type": "code",
   "execution_count": 126,
   "metadata": {},
   "outputs": [
    {
     "name": "stdout",
     "output_type": "stream",
     "text": [
      "Pin created successfully!\n"
     ]
    }
   ],
   "source": [
    "obj.create_pin()"
   ]
  },
  {
   "cell_type": "code",
   "execution_count": 127,
   "metadata": {},
   "outputs": [
    {
     "ename": "TypeError",
     "evalue": "'<=' not supported between instances of 'int' and 'str'",
     "output_type": "error",
     "traceback": [
      "\u001b[1;31m---------------------------------------------------------------------------\u001b[0m",
      "\u001b[1;31mTypeError\u001b[0m                                 Traceback (most recent call last)",
      "Cell \u001b[1;32mIn[127], line 1\u001b[0m\n\u001b[1;32m----> 1\u001b[0m \u001b[43mobj\u001b[49m\u001b[38;5;241;43m.\u001b[39;49m\u001b[43mwithdraw\u001b[49m\u001b[43m(\u001b[49m\u001b[43m)\u001b[49m\n",
      "Cell \u001b[1;32mIn[121], line 106\u001b[0m, in \u001b[0;36mAtm.withdraw\u001b[1;34m(self)\u001b[0m\n\u001b[0;32m    100\u001b[0m \u001b[38;5;28;01mif\u001b[39;00m user_pin \u001b[38;5;241m==\u001b[39m \u001b[38;5;28mself\u001b[39m\u001b[38;5;241m.\u001b[39mpin:\n\u001b[0;32m    101\u001b[0m \n\u001b[0;32m    102\u001b[0m     \u001b[38;5;66;03m#allow withdrw\u001b[39;00m\n\u001b[0;32m    104\u001b[0m     amount \u001b[38;5;241m=\u001b[39m \u001b[38;5;28mint\u001b[39m(\u001b[38;5;28minput\u001b[39m(\u001b[38;5;124m'\u001b[39m\u001b[38;5;124menter the amounnt: \u001b[39m\u001b[38;5;124m'\u001b[39m))\n\u001b[1;32m--> 106\u001b[0m     \u001b[38;5;28;01mif\u001b[39;00m \u001b[43mamount\u001b[49m\u001b[43m \u001b[49m\u001b[38;5;241;43m<\u001b[39;49m\u001b[38;5;241;43m=\u001b[39;49m\u001b[43m \u001b[49m\u001b[38;5;28;43mself\u001b[39;49m\u001b[38;5;241;43m.\u001b[39;49m\u001b[43m__balance\u001b[49m:\n\u001b[0;32m    107\u001b[0m         \u001b[38;5;28mself\u001b[39m\u001b[38;5;241m.\u001b[39m__balance \u001b[38;5;241m=\u001b[39m \u001b[38;5;28mself\u001b[39m\u001b[38;5;241m.\u001b[39m__balance \u001b[38;5;241m-\u001b[39m amount\n\u001b[0;32m    108\u001b[0m         \u001b[38;5;28mprint\u001b[39m(\u001b[38;5;124mf\u001b[39m\u001b[38;5;124m\"\u001b[39m\u001b[38;5;124mWithdraw successfully and balance is \u001b[39m\u001b[38;5;132;01m{\u001b[39;00m\u001b[38;5;28mself\u001b[39m\u001b[38;5;241m.\u001b[39m__balance\u001b[38;5;132;01m}\u001b[39;00m\u001b[38;5;124m\"\u001b[39m)\n",
      "\u001b[1;31mTypeError\u001b[0m: '<=' not supported between instances of 'int' and 'str'"
     ]
    }
   ],
   "source": [
    "obj.withdraw()"
   ]
  },
  {
   "cell_type": "code",
   "execution_count": null,
   "metadata": {},
   "outputs": [],
   "source": []
  },
  {
   "cell_type": "code",
   "execution_count": null,
   "metadata": {},
   "outputs": [],
   "source": []
  },
  {
   "cell_type": "markdown",
   "metadata": {},
   "source": [
    "## part3\n"
   ]
  },
  {
   "cell_type": "code",
   "execution_count": 131,
   "metadata": {},
   "outputs": [],
   "source": [
    "obj.set_balance(90)"
   ]
  },
  {
   "cell_type": "code",
   "execution_count": 132,
   "metadata": {},
   "outputs": [
    {
     "data": {
      "text/plain": [
       "90"
      ]
     },
     "execution_count": 132,
     "metadata": {},
     "output_type": "execute_result"
    }
   ],
   "source": [
    "obj.get_balance()"
   ]
  },
  {
   "cell_type": "code",
   "execution_count": null,
   "metadata": {},
   "outputs": [],
   "source": [
    "\n"
   ]
  },
  {
   "cell_type": "markdown",
   "metadata": {},
   "source": [
    "# protected:\n",
    "## not much used in the industry\n",
    "## industry mostly uses private variable "
   ]
  },
  {
   "cell_type": "markdown",
   "metadata": {},
   "source": [
    "## __privatevariable (two underscores: specif to the class, only you. on;y itself)\n",
    "## _protectedvariable (like frnds can be accesd through other class)\n",
    "## publicvariable\n",
    "\n",
    "\n",
    "same is applied for methods too. "
   ]
  },
  {
   "cell_type": "code",
   "execution_count": null,
   "metadata": {},
   "outputs": [],
   "source": [
    "\"\"\"protected variables are like friends ie. we give acccess of these variables to specific class. \n",
    "it uses only one underscored. \n",
    "in the example below, \"name\" variable can be accessed through \"Person1\" class as well. That is why \"name\" \n",
    "variable is a protected variable. \n",
    "\n",
    "\n",
    "\"\"\"\n",
    "\n",
    "class Person:\n",
    "\n",
    "    def __init__(self):\n",
    "        self._name = \"Bappy\" #using only one underscored: its a protected variabl.e #this can be used by other class. \n",
    "        self.country = \"UK\"\n",
    "\n",
    "\n",
    "class Person1:\n",
    "    pass"
   ]
  },
  {
   "cell_type": "code",
   "execution_count": null,
   "metadata": {},
   "outputs": [],
   "source": []
  },
  {
   "cell_type": "markdown",
   "metadata": {},
   "source": [
    "## static keywords\n",
    "\n",
    "# initialised using the keyword \"@staticmethod\n",
    "# its just a fucntion/method defined under the class which has no relation with the concept of the class, basically its like a hatke method defined inside the class. "
   ]
  },
  {
   "cell_type": "code",
   "execution_count": 141,
   "metadata": {},
   "outputs": [],
   "source": [
    "class Atm:\n",
    "\n",
    "  counter = 0\n",
    "\n",
    "  #constructor(special function) - superpower\n",
    "  def __init__(self):\n",
    "    self.pin = \"\"\n",
    "    self.__balance = 0 #private variable\n",
    "    self.count = Atm.counter\n",
    "    # self.menu()\n",
    "\n",
    "\n",
    "  # getter method\n",
    "  def get_balance(self):\n",
    "    return self.__balance\n",
    "\n",
    "\n",
    "  #setter method\n",
    "  def set_balance(self, new_balance):\n",
    "    if type(new_balance) == int:\n",
    "      self.__balance = new_balance\n",
    "    else:\n",
    "      print(\"Beta bohat maarenge\")\n",
    "\n",
    "\n",
    "  @staticmethod\n",
    "  def print_me(): #self keyword is not defind inside this fucntion\n",
    "    print(\"this function is not relevant to this paricular class.\")\n",
    "\n",
    "\n",
    "  @staticmethod\n",
    "  def bank_name():\n",
    "    print(\"aivai sa method defined kardiya class ke under\")\n",
    "\n",
    "\n",
    "  def __menu(self):\n",
    "    user_input = input(\n",
    "        \"\"\"\n",
    "        Hi how can i help you?\n",
    "\n",
    "        1. Press 1 to create pin\n",
    "        2. Press 2 to change pin\n",
    "        3. Press 3 to check balence\n",
    "        4. Press 4 to withdraw\n",
    "        5. Anything to exit\n",
    "        \"\"\"\n",
    "    )\n",
    "\n",
    "    if user_input == '1':\n",
    "      #create a pin\n",
    "      self.create_pin()\n",
    "\n",
    "    elif user_input == '2':\n",
    "      #change pin\n",
    "      self.change_pin()\n",
    "\n",
    "    elif user_input == '3':\n",
    "      #check balnce\n",
    "      self.check_balance()\n",
    "\n",
    "    elif user_input == '4':\n",
    "      #withdraw\n",
    "      self.withdraw()\n",
    "\n",
    "    else:\n",
    "      exit()\n",
    "\n",
    "\n",
    "  def create_pin(self):\n",
    "    user_pin = input(\"Enter your pin: \")\n",
    "    self.pin = user_pin\n",
    "\n",
    "    user_balance = int(input(\"Enter Balance: \"))\n",
    "    self.__balance = user_balance\n",
    "\n",
    "    print(\"Pin Created Successfully!\")\n",
    "    # self.menu()\n",
    "\n",
    "\n",
    "  def change_pin(self):\n",
    "    old_pin = input(\"Enter old pin: \")\n",
    "\n",
    "    if old_pin == self.pin:\n",
    "      #Let change the pin\n",
    "      new_pin = input(\"Enter new pin: \")\n",
    "      self.pin = new_pin\n",
    "      print(\"Pin changed Successfully!\")\n",
    "      # self.menu()\n",
    "\n",
    "    else:\n",
    "      print(\"Sorry you entered wrong pin.\")\n",
    "      # self.menu()\n",
    "\n",
    "\n",
    "\n",
    "\n",
    "  def check_balance(self):\n",
    "    user_pin = input(\"Enter your pin: \")\n",
    "    if user_pin == self.pin:\n",
    "      print(f\"Your balance is {self.__balance}\")\n",
    "    else:\n",
    "      print(\"Your pin is correct, please try again\")\n",
    "    # self.menu()\n",
    "\n",
    "\n",
    "\n",
    "  def withdraw(self):\n",
    "    user_pin = input(\"Enter your pin: \")\n",
    "    if user_pin == self.pin:\n",
    "      # Allow to withdraw\n",
    "      amount = int(input(\"Enter the amount: \"))\n",
    "      if amount <= self.__balance:\n",
    "        self.__balance = self.__balance - amount\n",
    "        print(f\"withdraw successfull and the current balance is {self.__balance}\")\n",
    "\n",
    "      else:\n",
    "        print(\"You have insufficient balance\")\n",
    "\n",
    "\n",
    "    else:\n",
    "      print(\"Your pin is wrong!\")\n",
    "    # self.menu()\n"
   ]
  },
  {
   "cell_type": "code",
   "execution_count": 142,
   "metadata": {},
   "outputs": [],
   "source": [
    "obj = Atm()"
   ]
  },
  {
   "cell_type": "code",
   "execution_count": 143,
   "metadata": {},
   "outputs": [
    {
     "name": "stdout",
     "output_type": "stream",
     "text": [
      "aivai sa method defined kardiya class ke under\n"
     ]
    }
   ],
   "source": [
    "obj.bank_name()"
   ]
  },
  {
   "cell_type": "code",
   "execution_count": null,
   "metadata": {},
   "outputs": [],
   "source": []
  },
  {
   "cell_type": "code",
   "execution_count": null,
   "metadata": {},
   "outputs": [],
   "source": []
  }
 ],
 "metadata": {
  "kernelspec": {
   "display_name": "base",
   "language": "python",
   "name": "python3"
  },
  "language_info": {
   "codemirror_mode": {
    "name": "ipython",
    "version": 3
   },
   "file_extension": ".py",
   "mimetype": "text/x-python",
   "name": "python",
   "nbconvert_exporter": "python",
   "pygments_lexer": "ipython3",
   "version": "3.11.5"
  }
 },
 "nbformat": 4,
 "nbformat_minor": 2
}
