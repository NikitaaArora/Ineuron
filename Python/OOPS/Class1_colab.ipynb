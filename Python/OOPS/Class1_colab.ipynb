{
  "cells": [
    {
      "cell_type": "markdown",
      "metadata": {
        "id": "hWQdQwmedjGV"
      },
      "source": [
        "# Classes and Objects\n",
        "\n",
        "##Class is a blueprint and object is the instance of a class."
      ]
    },
    {
      "cell_type": "code",
      "execution_count": null,
      "metadata": {
        "colab": {
          "base_uri": "https://localhost:8080/",
          "height": 158
        },
        "id": "aqXIZLSva3bm",
        "outputId": "06b15aa1-6d27-4ef3-fc45-edfe39c2a44a"
      },
      "outputs": [
        {
          "ename": "AttributeError",
          "evalue": "'list' object has no attribute 'upper'",
          "output_type": "error",
          "traceback": [
            "\u001b[0;31m---------------------------------------------------------------------------\u001b[0m",
            "\u001b[0;31mAttributeError\u001b[0m                            Traceback (most recent call last)",
            "\u001b[0;32m<ipython-input-3-6aa40e193c77>\u001b[0m in \u001b[0;36m<cell line: 2>\u001b[0;34m()\u001b[0m\n\u001b[1;32m      1\u001b[0m \u001b[0ml\u001b[0m \u001b[0;34m=\u001b[0m \u001b[0;34m[\u001b[0m\u001b[0;36m1\u001b[0m\u001b[0;34m,\u001b[0m\u001b[0;36m2\u001b[0m\u001b[0;34m,\u001b[0m\u001b[0;36m3\u001b[0m\u001b[0;34m]\u001b[0m\u001b[0;34m\u001b[0m\u001b[0;34m\u001b[0m\u001b[0m\n\u001b[0;32m----> 2\u001b[0;31m \u001b[0ml\u001b[0m\u001b[0;34m.\u001b[0m\u001b[0mupper\u001b[0m\u001b[0;34m(\u001b[0m\u001b[0;34m)\u001b[0m\u001b[0;34m\u001b[0m\u001b[0;34m\u001b[0m\u001b[0m\n\u001b[0m",
            "\u001b[0;31mAttributeError\u001b[0m: 'list' object has no attribute 'upper'"
          ]
        }
      ],
      "source": [
        "l = [1,2,3]\n",
        "l.upper()"
      ]
    },
    {
      "cell_type": "code",
      "execution_count": null,
      "metadata": {
        "colab": {
          "base_uri": "https://localhost:8080/",
          "height": 158
        },
        "id": "J-x4MtsWa3d_",
        "outputId": "63b1e38d-ffd6-4592-aa42-bf3307d56a6b"
      },
      "outputs": [
        {
          "ename": "AttributeError",
          "evalue": "'str' object has no attribute 'append'",
          "output_type": "error",
          "traceback": [
            "\u001b[0;31m---------------------------------------------------------------------------\u001b[0m",
            "\u001b[0;31mAttributeError\u001b[0m                            Traceback (most recent call last)",
            "\u001b[0;32m<ipython-input-4-5f1d063d2f88>\u001b[0m in \u001b[0;36m<cell line: 2>\u001b[0;34m()\u001b[0m\n\u001b[1;32m      1\u001b[0m \u001b[0ms\u001b[0m \u001b[0;34m=\u001b[0m \u001b[0;34m\"Nikita\"\u001b[0m\u001b[0;34m\u001b[0m\u001b[0;34m\u001b[0m\u001b[0m\n\u001b[0;32m----> 2\u001b[0;31m \u001b[0ms\u001b[0m\u001b[0;34m.\u001b[0m\u001b[0mappend\u001b[0m\u001b[0;34m(\u001b[0m\u001b[0;34m)\u001b[0m\u001b[0;34m\u001b[0m\u001b[0;34m\u001b[0m\u001b[0m\n\u001b[0m",
            "\u001b[0;31mAttributeError\u001b[0m: 'str' object has no attribute 'append'"
          ]
        }
      ],
      "source": [
        "s = \"Nikita\"\n",
        "s.append()"
      ]
    },
    {
      "cell_type": "code",
      "execution_count": null,
      "metadata": {
        "colab": {
          "base_uri": "https://localhost:8080/"
        },
        "id": "8EpOBRA0a3gf",
        "outputId": "5c900a33-355b-4564-f33b-cc7fd970f619"
      },
      "outputs": [
        {
          "name": "stdout",
          "output_type": "stream",
          "text": [
            "<class 'list'>\n"
          ]
        }
      ],
      "source": [
        "L = [1,2,3]\n",
        "print(type(L))"
      ]
    },
    {
      "cell_type": "code",
      "execution_count": null,
      "metadata": {
        "id": "dE0Ha77Ma3i8"
      },
      "outputs": [],
      "source": [
        "# mobile  - class\n",
        "# samsung- object\n",
        "# iphone - object"
      ]
    },
    {
      "cell_type": "code",
      "execution_count": null,
      "metadata": {
        "id": "P7fth9iFa3lk"
      },
      "outputs": [],
      "source": [
        "L = list()"
      ]
    },
    {
      "cell_type": "code",
      "execution_count": null,
      "metadata": {
        "id": "wUpAu-2Wa3oa"
      },
      "outputs": [],
      "source": [
        "# objectname = classname()"
      ]
    },
    {
      "cell_type": "code",
      "execution_count": null,
      "metadata": {
        "id": "4JHfghefa3rC"
      },
      "outputs": [],
      "source": [
        "s= str()\n",
        "# s is object and str is class"
      ]
    },
    {
      "cell_type": "code",
      "execution_count": null,
      "metadata": {
        "id": "Dh3gZZtkdOJ3"
      },
      "outputs": [],
      "source": []
    },
    {
      "cell_type": "markdown",
      "metadata": {
        "id": "O9K0i9lCnT89"
      },
      "source": [
        "# Class Diagram\n",
        "\n",
        "## classname: ATM\n",
        "## Data Components: 1. Balance 2. Pin\n",
        "## Functions: 1. Create Pin 2. Change Pin 3. Check Balance 4. Withdraw"
      ]
    },
    {
      "cell_type": "code",
      "execution_count": null,
      "metadata": {
        "id": "NmhkLvbra3tZ"
      },
      "outputs": [],
      "source": [
        "# write clasname in pascal case/camel case\n",
        "# HelloWorld"
      ]
    },
    {
      "cell_type": "code",
      "execution_count": 2,
      "metadata": {
        "id": "uD3Um_Dra36j"
      },
      "outputs": [],
      "source": [
        "class Atm:\n",
        "\n",
        "  '''\n",
        "  #constructor: a special fucntion - it has some superpower\n",
        "  #we dont have to call this function unlike any other normal functions. It will get automatically called. Any fucntion with \"__\" \"double underscored\" is a constructor function and\n",
        "  # it gets automatically called.\n",
        "  # Always write data properties inside a constructor.\n",
        "  # In each of the functions defined below aregument is written as self as it is directing towards that class ie. Atm.\n",
        "  # All the variables that are defined in the constructor fucntion should be prefixed with a \"self\".\n",
        "\n",
        "  '''\n",
        "\n",
        "  def __init__(self): #self means that it is an instance of the Atm class ie. only Atm can access these variables\n",
        "    print(\"Hello\")\n",
        "    self.pin = \"\"   #user will create the pin #pin and balance are data properties.\n",
        "    self.balance = 0\n",
        "    self.menu()   #calling the menu function within the constructor function only so that it opens up the user input while we call the atm function.\n",
        "\n",
        "\n",
        "  def menu(self):\n",
        "    user_input = input( \"\"\" Hey! How can I help you?\n",
        "\n",
        "        1. Press 1 to create pin\n",
        "        2. Press 2 to change pin\n",
        "        3. Press 3 to check balance\n",
        "        4. Press 4 to withdraw\n",
        "        5. Anything to exit\n",
        "\n",
        "        \"\"\")\n",
        "\n",
        "    if user_input == \"1\":\n",
        "      #create a pin\n",
        "      self.create_pin()\n",
        "\n",
        "    elif user_input == \"2\":\n",
        "      #change pin\n",
        "      self.change_pin()\n",
        "\n",
        "    elif user_input == \"3\":\n",
        "      #check balance\n",
        "      self.check_balance()\n",
        "\n",
        "    elif user_input == \"4\":\n",
        "      #withdraw\n",
        "      self.withdraw()\n",
        "\n",
        "    else:\n",
        "      exit()\n",
        "\n",
        "\n",
        "  def create_pin(self): #this createpin function is belonging to the atm class.Hence writing self.\n",
        "       user_pin = input(\"Enter your pin:\")\n",
        "       self.pin = user_pin #storing this user pin to the constructor pin variable\n",
        "\n",
        "       user_balance = int(input(\"Enter balance:\"))\n",
        "       self.balance = user_balance #saved this in the variable define in constructor variable.\n",
        "\n",
        "       print(\"Pin created successfully\")\n",
        "       self.menu() #after the pin is created the menu should be displayed again to the user.\n",
        "\n",
        "  def change_pin(self):\n",
        "      old_pin = input(\"Enter old pin:\")\n",
        "\n",
        "      if old_pin == self.pin:\n",
        "        #Let's change the pin\n",
        "\n",
        "        new_pin = input(\"Enter the new pin: \")\n",
        "        self.pin = new_pin #self.pin would change with the new_pin\n",
        "        print(\"Pin changed successfulyy\")\n",
        "        self.menu() #will display the menu again to the user.\n",
        "\n",
        "      else:\n",
        "        print(\"Wrong pin\")\n",
        "        self.menu()\n",
        "\n",
        "\n",
        "  def check_balance(self):\n",
        "      user_pin = input(\"Enter your pin:\")\n",
        "      if user_pin == self.pin:\n",
        "        print(f\"Your balace is {self.balance}\")\n",
        "\n",
        "      else:\n",
        "        print(\"wrong pin\")\n",
        "\n",
        "      self.menu()\n",
        "\n",
        "  def withdraw(self):\n",
        "      user_pin = input(\"enter your pin:\")\n",
        "      if user_pin == self.pin:\n",
        "        #Allow to withdraw\n",
        "        amount = int(input(\"enter the amount you want to withdraw: \")) #amount is a temporary variable and self.amount is a class variable.\n",
        "        if amount <= self.balance:\n",
        "          self.balance = self.balance - amount\n",
        "          print(f\"Withdraw successfully and current balance is {self.balance}\")\n",
        "        else:\n",
        "          print(\"you have insufficient balance ie. withdrawl amnt > balance\")\n",
        "      else:\n",
        "        print(\"wrong pin\")\n",
        "\n",
        "      self.menu()\n",
        "\n"
      ]
    },
    {
      "cell_type": "markdown",
      "metadata": {},
      "source": []
    },
    {
      "cell_type": "code",
      "execution_count": 6,
      "metadata": {
        "colab": {
          "base_uri": "https://localhost:8080/"
        },
        "id": "-YvZg56oNbfL",
        "outputId": "70652e0a-e63c-49e8-83c8-d21003034e00"
      },
      "outputs": [
        {
          "name": "stdout",
          "output_type": "stream",
          "text": [
            "Hello\n",
            " Hey! How can I help you? \n",
            "\n",
            "        1. Press 1 to create pin\n",
            "        2. Press 2 to change pin\n",
            "        3. Press 3 to check balance\n",
            "        4. Press 4 to withdraw\n",
            "        5. Anything to exit\n",
            "        \n",
            "        1\n",
            "Enter your pin:123\n",
            "Enter balance:23\n",
            "Pin created successfully\n",
            " Hey! How can I help you? \n",
            "\n",
            "        1. Press 1 to create pin\n",
            "        2. Press 2 to change pin\n",
            "        3. Press 3 to check balance\n",
            "        4. Press 4 to withdraw\n",
            "        5. Anything to exit\n",
            "        \n",
            "        3\n",
            "Enter your pin:123\n",
            "Your balace is 23\n",
            " Hey! How can I help you? \n",
            "\n",
            "        1. Press 1 to create pin\n",
            "        2. Press 2 to change pin\n",
            "        3. Press 3 to check balance\n",
            "        4. Press 4 to withdraw\n",
            "        5. Anything to exit\n",
            "        \n",
            "        4\n",
            "enter your pin:123\n",
            "enter the amount you want to withdraw: 30\n",
            "you have insufficient balance ie. withdrawl amnt > balance\n",
            " Hey! How can I help you? \n",
            "\n",
            "        1. Press 1 to create pin\n",
            "        2. Press 2 to change pin\n",
            "        3. Press 3 to check balance\n",
            "        4. Press 4 to withdraw\n",
            "        5. Anything to exit\n",
            "        \n",
            "        4\n",
            "enter your pin:123\n",
            "enter the amount you want to withdraw: 21\n",
            "Withdraw successfully and current balance is 2\n",
            " Hey! How can I help you? \n",
            "\n",
            "        1. Press 1 to create pin\n",
            "        2. Press 2 to change pin\n",
            "        3. Press 3 to check balance\n",
            "        4. Press 4 to withdraw\n",
            "        5. Anything to exit\n",
            "        \n",
            "        0\n"
          ]
        }
      ],
      "source": [
        "obj  = Atm()"
      ]
    },
    {
      "cell_type": "code",
      "execution_count": 2,
      "metadata": {
        "colab": {
          "base_uri": "https://localhost:8080/"
        },
        "id": "yKfua2Mya39U",
        "outputId": "3c68708e-19e6-4ed0-dcfc-5de30544fd16"
      },
      "outputs": [
        {
          "name": "stdout",
          "output_type": "stream",
          "text": [
            "Hello\n",
            " Hey! How can I help you? \n",
            "\n",
            "        1. Press 1 to create pin\n",
            "        2. Press 2 to change pin\n",
            "        3. Press 3 to check balance\n",
            "        4. Press 4 to withdraw\n",
            "        5. Anything to exit\n",
            "        \n",
            "        1\n",
            "Enter your pin:1234\n",
            "Enter balance:343\n",
            "Pin created successfully\n",
            " Hey! How can I help you? \n",
            "\n",
            "        1. Press 1 to create pin\n",
            "        2. Press 2 to change pin\n",
            "        3. Press 3 to check balance\n",
            "        4. Press 4 to withdraw\n",
            "        5. Anything to exit\n",
            "        \n",
            "        2\n",
            "Enter old pin:1234\n",
            "Enter the new pin: 1232\n",
            "Pin changed successfulyy\n",
            " Hey! How can I help you? \n",
            "\n",
            "        1. Press 1 to create pin\n",
            "        2. Press 2 to change pin\n",
            "        3. Press 3 to check balance\n",
            "        4. Press 4 to withdraw\n",
            "        5. Anything to exit\n",
            "        \n",
            "        5\n"
          ]
        }
      ],
      "source": [
        "obj2 = Atm() #created the \"obj\" object for the class Atm\n",
        "#obj.menu()  # accessing properties of the atm class\n",
        "."
      ]
    },
    {
      "cell_type": "code",
      "execution_count": null,
      "metadata": {
        "id": "qvulMGEpa4AX"
      },
      "outputs": [],
      "source": []
    },
    {
      "cell_type": "markdown",
      "metadata": {
        "id": "hHEadmkQRr8_"
      },
      "source": [
        "# Difference between Method and Function\n"
      ]
    },
    {
      "cell_type": "code",
      "execution_count": null,
      "metadata": {
        "id": "JogjRpcwM4Tj"
      },
      "outputs": [],
      "source": [
        "#function\n",
        "\n",
        "def main():\n",
        "  print(\"hellow\")"
      ]
    },
    {
      "cell_type": "code",
      "execution_count": null,
      "metadata": {
        "id": "BYiVSXyNM4Wb"
      },
      "outputs": [],
      "source": [
        "# method is the function that we've defined inside a class\n",
        "# check_balance is a method.\n",
        "\n",
        "class atm():\n",
        "\n",
        "  def check_balance():\n"
      ]
    },
    {
      "cell_type": "code",
      "execution_count": 4,
      "metadata": {
        "id": "5tcARGvSM4Y5"
      },
      "outputs": [],
      "source": [
        "l = [1,2,3]\n",
        "\n",
        "len(l) #this is a simple function - as it is outside of class\n",
        "\n",
        "l.append(78) #this is a method.  - it is inside of a class."
      ]
    },
    {
      "cell_type": "code",
      "execution_count": null,
      "metadata": {
        "id": "siWX3iiLM4bn"
      },
      "outputs": [],
      "source": [
        "# object/instance are same thing."
      ]
    },
    {
      "cell_type": "code",
      "execution_count": 10,
      "metadata": {
        "id": "3j5e8_DWM4d8"
      },
      "outputs": [],
      "source": [
        "class Temp:\n",
        "  # def __init__(self): #this is a magic/dunder function\n",
        "  #   print(\"Hello\")\n",
        "\n",
        "  def __str__(self):\n",
        "    print(\"hh\")"
      ]
    },
    {
      "cell_type": "code",
      "execution_count": 11,
      "metadata": {
        "id": "BKJW884uM4gg"
      },
      "outputs": [],
      "source": [
        "obj = Temp() #this str is not called automatically although __str__ is a magic/dunder method."
      ]
    },
    {
      "cell_type": "code",
      "execution_count": 12,
      "metadata": {
        "colab": {
          "base_uri": "https://localhost:8080/"
        },
        "id": "JV4MXqNhM4i-",
        "outputId": "fd7b218d-c1f0-46b6-deba-b7426c2d3ed4"
      },
      "outputs": [
        {
          "name": "stdout",
          "output_type": "stream",
          "text": [
            "hh\n"
          ]
        }
      ],
      "source": [
        "obj.__str__() #need to call it like this specificaly."
      ]
    },
    {
      "cell_type": "code",
      "execution_count": null,
      "metadata": {
        "id": "GwxfFkm2T7jI"
      },
      "outputs": [],
      "source": []
    },
    {
      "cell_type": "code",
      "execution_count": null,
      "metadata": {
        "id": "qFv_HM91T7lf"
      },
      "outputs": [],
      "source": []
    },
    {
      "cell_type": "code",
      "execution_count": null,
      "metadata": {
        "id": "eAJwIOkvT7oF"
      },
      "outputs": [],
      "source": []
    },
    {
      "cell_type": "code",
      "execution_count": null,
      "metadata": {
        "id": "qBS3-IlgT7qO"
      },
      "outputs": [],
      "source": []
    },
    {
      "cell_type": "code",
      "execution_count": null,
      "metadata": {
        "id": "V4MSw6W7T7tl"
      },
      "outputs": [],
      "source": []
    },
    {
      "cell_type": "code",
      "execution_count": null,
      "metadata": {
        "id": "v9P-EKboM4mY"
      },
      "outputs": [],
      "source": []
    },
    {
      "cell_type": "code",
      "execution_count": null,
      "metadata": {
        "id": "4npWOF3Qa4Dy"
      },
      "outputs": [],
      "source": []
    }
  ],
  "metadata": {
    "colab": {
      "provenance": []
    },
    "kernelspec": {
      "display_name": "Python 3",
      "name": "python3"
    },
    "language_info": {
      "name": "python",
      "version": "3.11.5"
    }
  },
  "nbformat": 4,
  "nbformat_minor": 0
}
