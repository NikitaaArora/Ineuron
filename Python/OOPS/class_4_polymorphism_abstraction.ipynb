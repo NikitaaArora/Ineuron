{
 "cells": [
  {
   "cell_type": "markdown",
   "metadata": {},
   "source": [
    "# Method Overriding\n",
    "\n",
    "## if there is a method which has the same name in another class - then the method which is inside that particular class would only be executed\n",
    "\n",
    "## if the same method/ fucntion is present in both parent class and child class then the child class method would only be executed. "
   ]
  },
  {
   "cell_type": "code",
   "execution_count": 11,
   "metadata": {},
   "outputs": [],
   "source": [
    "#Method overriding\n",
    "\n",
    "class Phone:\n",
    "    def __init__(self,price, brand,camera):\n",
    "        print(\"Inside Phone constructor\")\n",
    "\n",
    "        self.__price = price\n",
    "        self.brand = brand\n",
    "        self.camera = camera\n",
    "\n",
    "    def buy(self):\n",
    "        print(\"buying a phone\")\n",
    "\n",
    "    \n",
    "    \n",
    "\n",
    "\n",
    "class smartphone(Phone): #using smartphone #child class doesnt have its own constructor function. \n",
    "    def buy(self):\n",
    "        print(\"buying a smart phone\")"
   ]
  },
  {
   "cell_type": "code",
   "execution_count": 7,
   "metadata": {},
   "outputs": [
    {
     "name": "stdout",
     "output_type": "stream",
     "text": [
      "Inside Phone constructor\n"
     ]
    }
   ],
   "source": [
    "S= smartphone(2000, 'apple',3)\n",
    "# it is inside its constructor only as per the attributes are concerened but method wise it will run its own/self method and not anybody else's."
   ]
  },
  {
   "cell_type": "code",
   "execution_count": 9,
   "metadata": {},
   "outputs": [
    {
     "name": "stdout",
     "output_type": "stream",
     "text": [
      "buying a smart phone\n"
     ]
    }
   ],
   "source": [
    "S.buy() #it will print its own method only and not of the Phone.\n"
   ]
  },
  {
   "cell_type": "code",
   "execution_count": 10,
   "metadata": {},
   "outputs": [
    {
     "data": {
      "text/plain": [
       "3"
      ]
     },
     "execution_count": 10,
     "metadata": {},
     "output_type": "execute_result"
    }
   ],
   "source": [
    "S.camera #because the constructor has executed."
   ]
  },
  {
   "cell_type": "code",
   "execution_count": 13,
   "metadata": {},
   "outputs": [],
   "source": [
    "#Method overriding\n",
    "\n",
    "class Phone:\n",
    "    def __init__(self,price, brand,camera):\n",
    "        print(\"Inside Phone constructor\")\n",
    "\n",
    "        self.__price = price\n",
    "        self.brand = brand\n",
    "        self.camera = camera\n",
    "\n",
    "    def buy(self):\n",
    "        print(\"buying a phone\")\n",
    "\n",
    "    \n",
    "    \n",
    "\n",
    "\n",
    "class smartphone(Phone): #using smartphone #child class doesnt have its own constructor function. \n",
    "    pass\n",
    "    # def buy(self):\n",
    "    #     print(\"buying a smart phone\")"
   ]
  },
  {
   "cell_type": "code",
   "execution_count": 14,
   "metadata": {},
   "outputs": [
    {
     "name": "stdout",
     "output_type": "stream",
     "text": [
      "Inside Phone constructor\n"
     ]
    }
   ],
   "source": [
    "S= smartphone(2000, 'apple',3)"
   ]
  },
  {
   "cell_type": "code",
   "execution_count": 15,
   "metadata": {},
   "outputs": [
    {
     "name": "stdout",
     "output_type": "stream",
     "text": [
      "buying a phone\n"
     ]
    }
   ],
   "source": [
    "S.buy() #parent class method will only get executed. "
   ]
  },
  {
   "cell_type": "markdown",
   "metadata": {},
   "source": [
    "# Super Keyword"
   ]
  },
  {
   "cell_type": "markdown",
   "metadata": {},
   "source": [
    "## EXAMPLE 1"
   ]
  },
  {
   "cell_type": "code",
   "execution_count": 18,
   "metadata": {},
   "outputs": [],
   "source": [
    "\n",
    "class Phone:\n",
    "    def __init__(self,price, brand,camera):\n",
    "        print(\"Inside Phone constructor\")\n",
    "\n",
    "        self.__price = price\n",
    "        self.brand = brand\n",
    "        self.camera = camera\n",
    "\n",
    "    def buy(self):\n",
    "        print(\"buying a phone\")\n",
    "\n",
    "    \n",
    "    \n",
    "\n",
    "\n",
    "class smartphone(Phone): #using smartphone #child class doesnt have its own constructor function. \n",
    "    \n",
    "    def buy(self):\n",
    "        print(\"buying a smart phone\")\n",
    "\n",
    "       #pointing to parent class. \n",
    "        super().buy() #use this keyword if you want to run parent class ka bhi method bhi"
   ]
  },
  {
   "cell_type": "code",
   "execution_count": 19,
   "metadata": {},
   "outputs": [
    {
     "name": "stdout",
     "output_type": "stream",
     "text": [
      "Inside Phone constructor\n"
     ]
    }
   ],
   "source": [
    "S= smartphone(2000, 'apple',3)"
   ]
  },
  {
   "cell_type": "code",
   "execution_count": 21,
   "metadata": {},
   "outputs": [
    {
     "name": "stdout",
     "output_type": "stream",
     "text": [
      "buying a smart phone\n",
      "buying a phone\n"
     ]
    }
   ],
   "source": [
    "S.buy() #both methods would be execute \n",
    "# child class is exxecuted first and then parent class method is executed. "
   ]
  },
  {
   "cell_type": "markdown",
   "metadata": {},
   "source": [
    "## EXAMPLE 2"
   ]
  },
  {
   "cell_type": "code",
   "execution_count": 1,
   "metadata": {},
   "outputs": [],
   "source": [
    "#whenever we are making a class, attributes or class variables we are definig within the constructor fucntion only. \n",
    "\n",
    "\n",
    "\n",
    "\n",
    "\n",
    "class Phone:\n",
    "    def __init__(self, price, brand, camera):\n",
    "        print(\"Inside Phone constructor\")\n",
    "        self.__price = price\n",
    "        self.brand = brand\n",
    "        self.camera = camera\n",
    "\n",
    "\n",
    "class smartphone(Phone):\n",
    "\n",
    "    def __init__(self,price, brand, camera, os, ram):\n",
    "        print(\"inside smartphone constructor\")\n",
    "        super().__init__(price, brand, camera) #coz these variables are defined within the constructor fucntion only. \n",
    "        self.os = os\n",
    "        self.ram = ram\n",
    "         \n",
    "# in inheritance we cannnot access private variable. we have to set a getter function. \n",
    "# only public and private variables are only used in python. "
   ]
  },
  {
   "cell_type": "code",
   "execution_count": 2,
   "metadata": {},
   "outputs": [
    {
     "name": "stdout",
     "output_type": "stream",
     "text": [
      "inside smartphone constructor\n",
      "Inside Phone constructor\n"
     ]
    }
   ],
   "source": [
    "S =smartphone(20000, \"apple\",3, \"android\",16)\n",
    "#smartphone constructor executed"
   ]
  },
  {
   "cell_type": "code",
   "execution_count": 3,
   "metadata": {},
   "outputs": [
    {
     "name": "stdout",
     "output_type": "stream",
     "text": [
      "apple\n"
     ]
    }
   ],
   "source": [
    "print(S.brand)"
   ]
  },
  {
   "cell_type": "code",
   "execution_count": 4,
   "metadata": {},
   "outputs": [
    {
     "name": "stdout",
     "output_type": "stream",
     "text": [
      "android\n"
     ]
    }
   ],
   "source": [
    "print(S.os)"
   ]
  },
  {
   "cell_type": "code",
   "execution_count": 9,
   "metadata": {},
   "outputs": [
    {
     "ename": "AttributeError",
     "evalue": "'smartphone' object has no attribute '__price'",
     "output_type": "error",
     "traceback": [
      "\u001b[1;31m---------------------------------------------------------------------------\u001b[0m",
      "\u001b[1;31mAttributeError\u001b[0m                            Traceback (most recent call last)",
      "Cell \u001b[1;32mIn[9], line 1\u001b[0m\n\u001b[1;32m----> 1\u001b[0m \u001b[38;5;28mprint\u001b[39m(\u001b[43mS\u001b[49m\u001b[38;5;241;43m.\u001b[39;49m\u001b[43m__price\u001b[49m) \u001b[38;5;66;03m#ccanot access this as this is a private variable.\u001b[39;00m\n",
      "\u001b[1;31mAttributeError\u001b[0m: 'smartphone' object has no attribute '__price'"
     ]
    }
   ],
   "source": [
    "print(S.__price) #ccanot access this as this is a private variable."
   ]
  },
  {
   "cell_type": "code",
   "execution_count": 7,
   "metadata": {},
   "outputs": [
    {
     "name": "stdout",
     "output_type": "stream",
     "text": [
      "20000\n"
     ]
    }
   ],
   "source": [
    "print(S._Phone__price)"
   ]
  },
  {
   "cell_type": "markdown",
   "metadata": {},
   "source": [
    "# TYPES OF INHERITANCE\n",
    "## single inheritance  - parentclass <------ child class\n",
    "\n",
    "\n",
    "## Multilevel Inheritance\n",
    "grandfather class <-- father class <---- child class #child will inherit grandfathers and fathers class both( dada par dada. )(there is no limit-- no restriction on number of classes..)\n",
    "\n",
    "\n",
    "## Hierarchical Inheritance\n",
    "\n",
    "parent class <---\n",
    "\n",
    "c1 c2 c3 ( one parent class and multiple child classess.)\n",
    "\n",
    "\n",
    "\n",
    "## Multiple INheritance (mom and dad both)\n",
    "\n",
    "p1   p2   \n",
    "\n",
    "\n",
    "   c     (multiple parent class and one child class. )\n",
    "\n"
   ]
  },
  {
   "cell_type": "markdown",
   "metadata": {},
   "source": [
    "# MULTILEVEL INHERIANCE (GF- FATHER AND CHILD)"
   ]
  },
  {
   "cell_type": "code",
   "execution_count": 16,
   "metadata": {},
   "outputs": [],
   "source": [
    "#child class will inherit the properties of both grandfather and father class. \n",
    "\n",
    "\n",
    "#grandfather class\n",
    "class Product:\n",
    "    def review(self):\n",
    "        print(\"product customer review\")\n",
    "\n",
    "\n",
    "\n",
    "\n",
    "#father class\n",
    "\n",
    "class Phone(Product): #Phone is a product hence inherited the above class. and product hai toh reviews bhi honge hi product ke.\n",
    "\n",
    "    def __init__(self, price, brand, camera):\n",
    "        print(\"Inside Phone constructor\")\n",
    "        self.__price = price\n",
    "        self.brand = brand\n",
    "        self.camera = camera\n",
    "\n",
    "    def buy(self):\n",
    "        print(\"buying phone\")\n",
    "\n",
    "\n",
    "\n",
    "#child class\n",
    "class smartphone(Phone): #smartphone is a phone entity\n",
    "                         #child class doesnt have its own constructor fucntion\n",
    "    pass"
   ]
  },
  {
   "cell_type": "code",
   "execution_count": 18,
   "metadata": {},
   "outputs": [
    {
     "name": "stdout",
     "output_type": "stream",
     "text": [
      "Inside Phone constructor\n"
     ]
    }
   ],
   "source": [
    "S = smartphone(2000, \"samsung\",3) #child class will use fathers constructor function as \n",
    "#it doesnt have its own constructor fucntion."
   ]
  },
  {
   "cell_type": "code",
   "execution_count": 13,
   "metadata": {},
   "outputs": [
    {
     "data": {
      "text/plain": [
       "'samsung'"
      ]
     },
     "execution_count": 13,
     "metadata": {},
     "output_type": "execute_result"
    }
   ],
   "source": [
    "S.brand #as S has access to fathers class constructor fucntion. It can access price, brand and camera also of that constructor fucntion."
   ]
  },
  {
   "cell_type": "code",
   "execution_count": 14,
   "metadata": {},
   "outputs": [
    {
     "data": {
      "text/plain": [
       "3"
      ]
     },
     "execution_count": 14,
     "metadata": {},
     "output_type": "execute_result"
    }
   ],
   "source": [
    "S.camera #this a public variable"
   ]
  },
  {
   "cell_type": "code",
   "execution_count": 15,
   "metadata": {},
   "outputs": [
    {
     "ename": "AttributeError",
     "evalue": "'smartphone' object has no attribute 'price'",
     "output_type": "error",
     "traceback": [
      "\u001b[1;31m---------------------------------------------------------------------------\u001b[0m",
      "\u001b[1;31mAttributeError\u001b[0m                            Traceback (most recent call last)",
      "Cell \u001b[1;32mIn[15], line 1\u001b[0m\n\u001b[1;32m----> 1\u001b[0m \u001b[43mS\u001b[49m\u001b[38;5;241;43m.\u001b[39;49m\u001b[43mprice\u001b[49m\n",
      "\u001b[1;31mAttributeError\u001b[0m: 'smartphone' object has no attribute 'price'"
     ]
    }
   ],
   "source": [
    "S.price #as price is a pprivate variable so cant access that\n",
    "#inheritance mein we cant access private variable."
   ]
  },
  {
   "cell_type": "code",
   "execution_count": 20,
   "metadata": {},
   "outputs": [
    {
     "name": "stdout",
     "output_type": "stream",
     "text": [
      "buying phone\n"
     ]
    }
   ],
   "source": [
    "S.buy() # can access fathers method as well."
   ]
  },
  {
   "cell_type": "code",
   "execution_count": 22,
   "metadata": {},
   "outputs": [
    {
     "name": "stdout",
     "output_type": "stream",
     "text": [
      "product customer review\n"
     ]
    }
   ],
   "source": [
    "S.review() #can access grandfathers method as well. "
   ]
  },
  {
   "cell_type": "code",
   "execution_count": 23,
   "metadata": {},
   "outputs": [],
   "source": [
    "def add(a,b):\n",
    "    print(a+b)"
   ]
  },
  {
   "cell_type": "code",
   "execution_count": 24,
   "metadata": {},
   "outputs": [],
   "source": [
    "add(2,3)"
   ]
  },
  {
   "cell_type": "code",
   "execution_count": null,
   "metadata": {},
   "outputs": [],
   "source": []
  },
  {
   "cell_type": "code",
   "execution_count": null,
   "metadata": {},
   "outputs": [],
   "source": []
  },
  {
   "cell_type": "code",
   "execution_count": null,
   "metadata": {},
   "outputs": [],
   "source": []
  },
  {
   "cell_type": "code",
   "execution_count": null,
   "metadata": {},
   "outputs": [],
   "source": []
  },
  {
   "cell_type": "code",
   "execution_count": null,
   "metadata": {},
   "outputs": [],
   "source": []
  },
  {
   "cell_type": "code",
   "execution_count": null,
   "metadata": {},
   "outputs": [],
   "source": []
  },
  {
   "cell_type": "code",
   "execution_count": null,
   "metadata": {},
   "outputs": [],
   "source": []
  },
  {
   "cell_type": "code",
   "execution_count": null,
   "metadata": {},
   "outputs": [],
   "source": []
  },
  {
   "cell_type": "code",
   "execution_count": null,
   "metadata": {},
   "outputs": [],
   "source": []
  },
  {
   "cell_type": "code",
   "execution_count": null,
   "metadata": {},
   "outputs": [],
   "source": []
  },
  {
   "cell_type": "code",
   "execution_count": null,
   "metadata": {},
   "outputs": [],
   "source": []
  },
  {
   "cell_type": "code",
   "execution_count": null,
   "metadata": {},
   "outputs": [],
   "source": []
  },
  {
   "cell_type": "code",
   "execution_count": null,
   "metadata": {},
   "outputs": [],
   "source": []
  },
  {
   "cell_type": "code",
   "execution_count": null,
   "metadata": {},
   "outputs": [],
   "source": []
  },
  {
   "cell_type": "code",
   "execution_count": null,
   "metadata": {},
   "outputs": [],
   "source": []
  },
  {
   "cell_type": "code",
   "execution_count": null,
   "metadata": {},
   "outputs": [],
   "source": []
  }
 ],
 "metadata": {
  "kernelspec": {
   "display_name": "base",
   "language": "python",
   "name": "python3"
  },
  "language_info": {
   "codemirror_mode": {
    "name": "ipython",
    "version": 3
   },
   "file_extension": ".py",
   "mimetype": "text/x-python",
   "name": "python",
   "nbconvert_exporter": "python",
   "pygments_lexer": "ipython3",
   "version": "3.11.5"
  }
 },
 "nbformat": 4,
 "nbformat_minor": 2
}
